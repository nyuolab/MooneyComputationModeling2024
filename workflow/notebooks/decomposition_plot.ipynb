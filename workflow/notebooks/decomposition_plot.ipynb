{
 "cells": [
  {
   "cell_type": "code",
   "execution_count": 483,
   "metadata": {},
   "outputs": [],
   "source": [
    "import pandas as pd\n",
    "import seaborn as sns\n",
    "import numpy as np\n",
    "import matplotlib.pyplot as plt\n",
    "from scipy.stats import mannwhitneyu, false_discovery_control, wilcoxon, ttest_1samp"
   ]
  },
  {
   "cell_type": "markdown",
   "metadata": {},
   "source": [
    "## Get the Normalization"
   ]
  },
  {
   "cell_type": "code",
   "execution_count": 484,
   "metadata": {},
   "outputs": [],
   "source": [
    "from nilearn.image import load_img"
   ]
  },
  {
   "cell_type": "code",
   "execution_count": 485,
   "metadata": {},
   "outputs": [],
   "source": [
    "comps = [load_img(f\"/Users/chris/projects/Nature2023MooneyScripts/results/prediction_error_components/components_{idx}.nii.gz\").get_fdata() for idx in range(4)]\n",
    "comps = [comp[comp != 0] for comp in comps]\n",
    "comps = [np.linalg.norm(comp) for comp in comps]"
   ]
  },
  {
   "cell_type": "markdown",
   "metadata": {},
   "source": [
    "## OK"
   ]
  },
  {
   "cell_type": "code",
   "execution_count": 486,
   "metadata": {},
   "outputs": [],
   "source": [
    "df = pd.read_csv(\"/Users/chris/projects/Nature2023MooneyScripts/results/prediction_error_components/record.csv\")"
   ]
  },
  {
   "cell_type": "code",
   "execution_count": 487,
   "metadata": {},
   "outputs": [
    {
     "data": {
      "text/html": [
       "<div>\n",
       "<style scoped>\n",
       "    .dataframe tbody tr th:only-of-type {\n",
       "        vertical-align: middle;\n",
       "    }\n",
       "\n",
       "    .dataframe tbody tr th {\n",
       "        vertical-align: top;\n",
       "    }\n",
       "\n",
       "    .dataframe thead th {\n",
       "        text-align: right;\n",
       "    }\n",
       "</style>\n",
       "<table border=\"1\" class=\"dataframe\">\n",
       "  <thead>\n",
       "    <tr style=\"text-align: right;\">\n",
       "      <th></th>\n",
       "      <th>subject</th>\n",
       "      <th>component_idx</th>\n",
       "      <th>component_value</th>\n",
       "      <th>image_index</th>\n",
       "    </tr>\n",
       "  </thead>\n",
       "  <tbody>\n",
       "    <tr>\n",
       "      <th>0</th>\n",
       "      <td>4</td>\n",
       "      <td>0</td>\n",
       "      <td>0.214458</td>\n",
       "      <td>0</td>\n",
       "    </tr>\n",
       "    <tr>\n",
       "      <th>1</th>\n",
       "      <td>4</td>\n",
       "      <td>1</td>\n",
       "      <td>0.235829</td>\n",
       "      <td>0</td>\n",
       "    </tr>\n",
       "    <tr>\n",
       "      <th>2</th>\n",
       "      <td>4</td>\n",
       "      <td>2</td>\n",
       "      <td>0.350106</td>\n",
       "      <td>0</td>\n",
       "    </tr>\n",
       "    <tr>\n",
       "      <th>3</th>\n",
       "      <td>4</td>\n",
       "      <td>3</td>\n",
       "      <td>0.810492</td>\n",
       "      <td>0</td>\n",
       "    </tr>\n",
       "    <tr>\n",
       "      <th>4</th>\n",
       "      <td>4</td>\n",
       "      <td>0</td>\n",
       "      <td>0.359122</td>\n",
       "      <td>1</td>\n",
       "    </tr>\n",
       "  </tbody>\n",
       "</table>\n",
       "</div>"
      ],
      "text/plain": [
       "   subject  component_idx  component_value  image_index\n",
       "0        4              0         0.214458            0\n",
       "1        4              1         0.235829            0\n",
       "2        4              2         0.350106            0\n",
       "3        4              3         0.810492            0\n",
       "4        4              0         0.359122            1"
      ]
     },
     "execution_count": 487,
     "metadata": {},
     "output_type": "execute_result"
    }
   ],
   "source": [
    "df.head()"
   ]
  },
  {
   "cell_type": "code",
   "execution_count": 488,
   "metadata": {},
   "outputs": [],
   "source": [
    "# Multiply value by the norm to get the actual value\n",
    "for idx, row in df.iterrows():\n",
    "    df.loc[idx, \"component_value\"] = row[\"component_value\"] * comps[int(row[\"component_idx\"])]"
   ]
  },
  {
   "cell_type": "code",
   "execution_count": 489,
   "metadata": {},
   "outputs": [
    {
     "name": "stdout",
     "output_type": "stream",
     "text": [
      "[5.63275960e-130 9.47893808e-075 2.10649793e-023]\n"
     ]
    },
    {
     "data": {
      "image/png": "[encoded data removed]",
      "text/plain": [
       "<Figure size 300x300 with 1 Axes>"
      ]
     },
     "metadata": {},
     "output_type": "display_data"
    }
   ],
   "source": [
    "fig, ax = plt.subplots(figsize=(3, 3))\n",
    "sns.barplot(data=df, x=\"component_idx\", y=\"component_value\", ax=ax)\n",
    "plt.xlabel(\"Component Index\")\n",
    "plt.ylabel(\"Component Weight\")\n",
    "\n",
    "# Test that component 0 is higher than 1, 2, 3, and 4\n",
    "p_vals = []\n",
    "comp0 = df[df[\"component_idx\"] == 0][\"component_value\"]\n",
    "for i in range(1, 4):\n",
    "    compi = df[df[\"component_idx\"] == i][\"component_value\"]\n",
    "    p_vals.append(mannwhitneyu(comp0, compi)[1])\n",
    "\n",
    "p_vals = false_discovery_control(p_vals, method=\"bh\")\n",
    "print(p_vals)\n",
    "\n",
    "plt.gca().spines[['top', 'right']].set_visible(False)\n",
    "\n",
    "plt.tight_layout()\n",
    "plt.savefig(\"/Users/chris/Desktop/components_all.png\", dpi=1200)"
   ]
  },
  {
   "cell_type": "markdown",
   "metadata": {},
   "source": [
    "## Which image and subject?"
   ]
  },
  {
   "cell_type": "code",
   "execution_count": 490,
   "metadata": {},
   "outputs": [],
   "source": [
    "# Load one fmri sequence to get the labels\n",
    "fmri_sequence = pd.read_csv(\"/Users/chris/projects/Nature2023MooneyScripts/results/fmri_sequences/human_subject4.csv\")\n",
    "\n",
    "# Make a conversion\n",
    "index_to_image_name = {}\n",
    "for i, row in fmri_sequence.iterrows():\n",
    "    index_to_image_name[row[\"image_index\"]] = row[\"image_path\"].split(\"/\")[-1]"
   ]
  },
  {
   "cell_type": "code",
   "execution_count": 491,
   "metadata": {},
   "outputs": [],
   "source": [
    "low_threshold = 4\n",
    "for (subject, image_index), small_df in df.groupby([\"subject\", \"image_index\"]):\n",
    "    # Load the response order\n",
    "    df_subject = pd.read_excel(f\"/Users/chris/projects/Nature2023MooneyScripts/data/fmri_image_order/S{subject}/response_order.xlsx\", header=None, names=[\"image_name\", \"image_recognized\"])\n",
    "\n",
    "    # Get the image name\n",
    "    img_name_this = index_to_image_name[image_index]\n",
    "\n",
    "    # Match with the first row with this image name\n",
    "    first_row = df_subject[df_subject[\"image_name\"] == img_name_this]\n",
    "\n",
    "    # Some names are missing a 1\n",
    "    if len(first_row) == 0:\n",
    "        img_name_this = img_name_this.replace(\".bmp\", \"1.bmp\")\n",
    "        first_row = df_subject[df_subject[\"image_name\"] == img_name_this]\n",
    "\n",
    "    recs = first_row[\"image_recognized\"].values\n",
    "    rec_pre = recs[:len(recs) // 2].mean() >= (6 - low_threshold) / 6\n",
    "    unrec_pre = recs[:len(recs) // 2].mean() <= (low_threshold) / 6\n",
    "\n",
    "    rec_post = recs[len(recs) // 2:].mean() >= (6 - low_threshold) / 6\n",
    "    unrec_post = recs[len(recs) // 2:].mean() <= (low_threshold) / 6\n",
    "\n",
    "    index = small_df.index\n",
    "    if unrec_pre and unrec_post:\n",
    "        df.loc[index, \"learning\"] = 0\n",
    "        df.loc[index, \"unlearning\"] = 1\n",
    "    elif unrec_pre and rec_post:\n",
    "        df.loc[index, \"learning\"] = 1\n",
    "        df.loc[index, \"unlearning\"] = 0\n",
    "    else:\n",
    "        df.loc[index, \"learning\"] = 100\n",
    "        df.loc[index, \"unlearning\"] = 100"
   ]
  },
  {
   "cell_type": "code",
   "execution_count": 492,
   "metadata": {},
   "outputs": [
    {
     "data": {
      "text/plain": [
       "1.0      1164\n",
       "100.0     940\n",
       "0.0       404\n",
       "Name: learning, dtype: int64"
      ]
     },
     "execution_count": 492,
     "metadata": {},
     "output_type": "execute_result"
    }
   ],
   "source": [
    "df[\"learning\"].value_counts()"
   ]
  },
  {
   "cell_type": "code",
   "execution_count": 493,
   "metadata": {},
   "outputs": [],
   "source": [
    "# Remove images that are always recognized\n",
    "df = df[df[\"learning\"] != 100]"
   ]
  },
  {
   "cell_type": "code",
   "execution_count": 494,
   "metadata": {},
   "outputs": [
    {
     "data": {
      "text/html": [
       "<div>\n",
       "<style scoped>\n",
       "    .dataframe tbody tr th:only-of-type {\n",
       "        vertical-align: middle;\n",
       "    }\n",
       "\n",
       "    .dataframe tbody tr th {\n",
       "        vertical-align: top;\n",
       "    }\n",
       "\n",
       "    .dataframe thead th {\n",
       "        text-align: right;\n",
       "    }\n",
       "</style>\n",
       "<table border=\"1\" class=\"dataframe\">\n",
       "  <thead>\n",
       "    <tr style=\"text-align: right;\">\n",
       "      <th></th>\n",
       "      <th>subject</th>\n",
       "      <th>component_idx</th>\n",
       "      <th>component_value</th>\n",
       "      <th>image_index</th>\n",
       "      <th>learning</th>\n",
       "      <th>unlearning</th>\n",
       "    </tr>\n",
       "  </thead>\n",
       "  <tbody>\n",
       "    <tr>\n",
       "      <th>8</th>\n",
       "      <td>4</td>\n",
       "      <td>0</td>\n",
       "      <td>15.040171</td>\n",
       "      <td>2</td>\n",
       "      <td>1.0</td>\n",
       "      <td>0.0</td>\n",
       "    </tr>\n",
       "    <tr>\n",
       "      <th>9</th>\n",
       "      <td>4</td>\n",
       "      <td>1</td>\n",
       "      <td>1.035298</td>\n",
       "      <td>2</td>\n",
       "      <td>1.0</td>\n",
       "      <td>0.0</td>\n",
       "    </tr>\n",
       "    <tr>\n",
       "      <th>10</th>\n",
       "      <td>4</td>\n",
       "      <td>2</td>\n",
       "      <td>7.170261</td>\n",
       "      <td>2</td>\n",
       "      <td>1.0</td>\n",
       "      <td>0.0</td>\n",
       "    </tr>\n",
       "    <tr>\n",
       "      <th>11</th>\n",
       "      <td>4</td>\n",
       "      <td>3</td>\n",
       "      <td>0.000000</td>\n",
       "      <td>2</td>\n",
       "      <td>1.0</td>\n",
       "      <td>0.0</td>\n",
       "    </tr>\n",
       "    <tr>\n",
       "      <th>28</th>\n",
       "      <td>4</td>\n",
       "      <td>0</td>\n",
       "      <td>39.349952</td>\n",
       "      <td>7</td>\n",
       "      <td>0.0</td>\n",
       "      <td>1.0</td>\n",
       "    </tr>\n",
       "  </tbody>\n",
       "</table>\n",
       "</div>"
      ],
      "text/plain": [
       "    subject  component_idx  component_value  image_index  learning  unlearning\n",
       "8         4              0        15.040171            2       1.0         0.0\n",
       "9         4              1         1.035298            2       1.0         0.0\n",
       "10        4              2         7.170261            2       1.0         0.0\n",
       "11        4              3         0.000000            2       1.0         0.0\n",
       "28        4              0        39.349952            7       0.0         1.0"
      ]
     },
     "execution_count": 494,
     "metadata": {},
     "output_type": "execute_result"
    }
   ],
   "source": [
    "df.head()"
   ]
  },
  {
   "cell_type": "code",
   "execution_count": 495,
   "metadata": {},
   "outputs": [
    {
     "data": {
      "image/png": "[encoded data removed]",
      "text/plain": [
       "<Figure size 500x300 with 1 Axes>"
      ]
     },
     "metadata": {},
     "output_type": "display_data"
    }
   ],
   "source": [
    "plt.figure(figsize=(5, 3))\n",
    "sns.barplot(data=df, x=\"component_idx\", y=\"component_value\", hue=\"learning\")\n",
    "plt.gca().spines[['top', 'right']].set_visible(False)\n",
    "\n",
    "plt.ylabel(\"Component Weight\")\n",
    "plt.xlabel(\"Component Index\")\n",
    "\n",
    "plt.tight_layout()\n",
    "plt.savefig(\"/Users/chris/Desktop/components.png\", dpi=1200)"
   ]
  },
  {
   "cell_type": "code",
   "execution_count": 496,
   "metadata": {},
   "outputs": [
    {
     "data": {
      "text/html": [
       "<div>\n",
       "<style scoped>\n",
       "    .dataframe tbody tr th:only-of-type {\n",
       "        vertical-align: middle;\n",
       "    }\n",
       "\n",
       "    .dataframe tbody tr th {\n",
       "        vertical-align: top;\n",
       "    }\n",
       "\n",
       "    .dataframe thead th {\n",
       "        text-align: right;\n",
       "    }\n",
       "</style>\n",
       "<table border=\"1\" class=\"dataframe\">\n",
       "  <thead>\n",
       "    <tr style=\"text-align: right;\">\n",
       "      <th>component_idx</th>\n",
       "      <th>subject</th>\n",
       "      <th>image_index</th>\n",
       "      <th>learning</th>\n",
       "      <th>unlearning</th>\n",
       "      <th>0</th>\n",
       "      <th>1</th>\n",
       "      <th>2</th>\n",
       "      <th>3</th>\n",
       "    </tr>\n",
       "  </thead>\n",
       "  <tbody>\n",
       "    <tr>\n",
       "      <th>0</th>\n",
       "      <td>4</td>\n",
       "      <td>2</td>\n",
       "      <td>1.0</td>\n",
       "      <td>0.0</td>\n",
       "      <td>15.040171</td>\n",
       "      <td>1.035298</td>\n",
       "      <td>7.170261</td>\n",
       "      <td>0.000000</td>\n",
       "    </tr>\n",
       "    <tr>\n",
       "      <th>1</th>\n",
       "      <td>4</td>\n",
       "      <td>7</td>\n",
       "      <td>0.0</td>\n",
       "      <td>1.0</td>\n",
       "      <td>39.349952</td>\n",
       "      <td>4.253849</td>\n",
       "      <td>4.369228</td>\n",
       "      <td>6.959214</td>\n",
       "    </tr>\n",
       "    <tr>\n",
       "      <th>2</th>\n",
       "      <td>4</td>\n",
       "      <td>12</td>\n",
       "      <td>1.0</td>\n",
       "      <td>0.0</td>\n",
       "      <td>37.638157</td>\n",
       "      <td>11.176328</td>\n",
       "      <td>8.820255</td>\n",
       "      <td>7.956262</td>\n",
       "    </tr>\n",
       "    <tr>\n",
       "      <th>3</th>\n",
       "      <td>4</td>\n",
       "      <td>13</td>\n",
       "      <td>1.0</td>\n",
       "      <td>0.0</td>\n",
       "      <td>24.261220</td>\n",
       "      <td>0.000000</td>\n",
       "      <td>11.548771</td>\n",
       "      <td>17.280086</td>\n",
       "    </tr>\n",
       "    <tr>\n",
       "      <th>4</th>\n",
       "      <td>4</td>\n",
       "      <td>14</td>\n",
       "      <td>0.0</td>\n",
       "      <td>1.0</td>\n",
       "      <td>4.866461</td>\n",
       "      <td>0.000000</td>\n",
       "      <td>2.956910</td>\n",
       "      <td>29.368540</td>\n",
       "    </tr>\n",
       "    <tr>\n",
       "      <th>...</th>\n",
       "      <td>...</td>\n",
       "      <td>...</td>\n",
       "      <td>...</td>\n",
       "      <td>...</td>\n",
       "      <td>...</td>\n",
       "      <td>...</td>\n",
       "      <td>...</td>\n",
       "      <td>...</td>\n",
       "    </tr>\n",
       "    <tr>\n",
       "      <th>387</th>\n",
       "      <td>25</td>\n",
       "      <td>24</td>\n",
       "      <td>1.0</td>\n",
       "      <td>0.0</td>\n",
       "      <td>21.339924</td>\n",
       "      <td>3.136590</td>\n",
       "      <td>7.160072</td>\n",
       "      <td>5.460692</td>\n",
       "    </tr>\n",
       "    <tr>\n",
       "      <th>388</th>\n",
       "      <td>25</td>\n",
       "      <td>25</td>\n",
       "      <td>1.0</td>\n",
       "      <td>0.0</td>\n",
       "      <td>16.652478</td>\n",
       "      <td>5.358471</td>\n",
       "      <td>9.801678</td>\n",
       "      <td>7.095890</td>\n",
       "    </tr>\n",
       "    <tr>\n",
       "      <th>389</th>\n",
       "      <td>25</td>\n",
       "      <td>28</td>\n",
       "      <td>1.0</td>\n",
       "      <td>0.0</td>\n",
       "      <td>12.198598</td>\n",
       "      <td>4.391442</td>\n",
       "      <td>10.863241</td>\n",
       "      <td>15.837474</td>\n",
       "    </tr>\n",
       "    <tr>\n",
       "      <th>390</th>\n",
       "      <td>25</td>\n",
       "      <td>29</td>\n",
       "      <td>1.0</td>\n",
       "      <td>0.0</td>\n",
       "      <td>17.703335</td>\n",
       "      <td>5.558810</td>\n",
       "      <td>7.125007</td>\n",
       "      <td>7.555032</td>\n",
       "    </tr>\n",
       "    <tr>\n",
       "      <th>391</th>\n",
       "      <td>25</td>\n",
       "      <td>32</td>\n",
       "      <td>1.0</td>\n",
       "      <td>0.0</td>\n",
       "      <td>17.731053</td>\n",
       "      <td>2.884514</td>\n",
       "      <td>3.940162</td>\n",
       "      <td>0.000000</td>\n",
       "    </tr>\n",
       "  </tbody>\n",
       "</table>\n",
       "<p>392 rows × 8 columns</p>\n",
       "</div>"
      ],
      "text/plain": [
       "component_idx  subject  image_index  learning  unlearning          0  \\\n",
       "0                    4            2       1.0         0.0  15.040171   \n",
       "1                    4            7       0.0         1.0  39.349952   \n",
       "2                    4           12       1.0         0.0  37.638157   \n",
       "3                    4           13       1.0         0.0  24.261220   \n",
       "4                    4           14       0.0         1.0   4.866461   \n",
       "..                 ...          ...       ...         ...        ...   \n",
       "387                 25           24       1.0         0.0  21.339924   \n",
       "388                 25           25       1.0         0.0  16.652478   \n",
       "389                 25           28       1.0         0.0  12.198598   \n",
       "390                 25           29       1.0         0.0  17.703335   \n",
       "391                 25           32       1.0         0.0  17.731053   \n",
       "\n",
       "component_idx          1          2          3  \n",
       "0               1.035298   7.170261   0.000000  \n",
       "1               4.253849   4.369228   6.959214  \n",
       "2              11.176328   8.820255   7.956262  \n",
       "3               0.000000  11.548771  17.280086  \n",
       "4               0.000000   2.956910  29.368540  \n",
       "..                   ...        ...        ...  \n",
       "387             3.136590   7.160072   5.460692  \n",
       "388             5.358471   9.801678   7.095890  \n",
       "389             4.391442  10.863241  15.837474  \n",
       "390             5.558810   7.125007   7.555032  \n",
       "391             2.884514   3.940162   0.000000  \n",
       "\n",
       "[392 rows x 8 columns]"
      ]
     },
     "execution_count": 496,
     "metadata": {},
     "output_type": "execute_result"
    }
   ],
   "source": [
    "# Turn long into wide: component_value_0, component_value_1, component_value_2, becomes columns\n",
    "df_rotate = pd.pivot_table(df, index=[\"subject\", \"image_index\", \"learning\", \"unlearning\"], columns=\"component_idx\", values=\"component_value\").reset_index()\n",
    "df_rotate"
   ]
  },
  {
   "cell_type": "markdown",
   "metadata": {},
   "source": [
    "## Subject-level pairwise test as first step"
   ]
  },
  {
   "cell_type": "code",
   "execution_count": 497,
   "metadata": {},
   "outputs": [],
   "source": [
    "from pingouin import pairwise_corr"
   ]
  },
  {
   "cell_type": "code",
   "execution_count": 498,
   "metadata": {},
   "outputs": [],
   "source": [
    "def get_plot(df_this, condition):\n",
    "    corr = np.zeros((4, 4, len(df_this[\"subject\"].unique())))\n",
    "    for subj_idx, (subject, small_df) in enumerate(df_this[df_this[\"learning\"]==condition].groupby(\"subject\")):\n",
    "        if len(small_df) < 4:\n",
    "            corr[:, :, subj_idx] = np.nan\n",
    "            continue\n",
    "\n",
    "        results = pairwise_corr(small_df, columns=[0, 1, 2, 3], method=\"bicor\")\n",
    "\n",
    "        for idx, row in results.iterrows():\n",
    "            corr[row[\"Y\"], row[\"X\"], subj_idx] = row[\"r\"]\n",
    "            corr[row[\"X\"], row[\"Y\"], subj_idx] = row[\"r\"]\n",
    "\n",
    "    # Get the lower triangle\n",
    "    vals = []\n",
    "    for i in range(4):\n",
    "        for j in range(i):\n",
    "            stats = corr[i, j, :]\n",
    "            vals.append(wilcoxon(stats[~np.isnan(stats)]))\n",
    "    p_vals = false_discovery_control([v[1] for v in vals], method=\"bh\").tolist()\n",
    "\n",
    "    p_mat = np.zeros((4, 4))\n",
    "    for i in range(4):\n",
    "        for j in range(i):\n",
    "            val = p_vals.pop(0)\n",
    "            p_mat[i, j] = val\n",
    "            p_mat[j, i] = val\n",
    "\n",
    "    return corr, p_mat"
   ]
  },
  {
   "cell_type": "code",
   "execution_count": 499,
   "metadata": {},
   "outputs": [],
   "source": [
    "learned_mat, learned_p = get_plot(df_rotate, 1)"
   ]
  },
  {
   "cell_type": "code",
   "execution_count": 500,
   "metadata": {},
   "outputs": [
    {
     "name": "stderr",
     "output_type": "stream",
     "text": [
      "/opt/anaconda3/envs/nature2023/lib/python3.11/site-packages/pingouin/power.py:861: UserWarning: Sample size is too small to estimate power (n <= 4). Returning NaN.\n",
      "  warnings.warn(\"Sample size is too small to estimate power (n <= 4). Returning NaN.\")\n",
      "/opt/anaconda3/envs/nature2023/lib/python3.11/site-packages/pingouin/power.py:861: UserWarning: Sample size is too small to estimate power (n <= 4). Returning NaN.\n",
      "  warnings.warn(\"Sample size is too small to estimate power (n <= 4). Returning NaN.\")\n",
      "/opt/anaconda3/envs/nature2023/lib/python3.11/site-packages/pingouin/power.py:861: UserWarning: Sample size is too small to estimate power (n <= 4). Returning NaN.\n",
      "  warnings.warn(\"Sample size is too small to estimate power (n <= 4). Returning NaN.\")\n",
      "/opt/anaconda3/envs/nature2023/lib/python3.11/site-packages/pingouin/power.py:861: UserWarning: Sample size is too small to estimate power (n <= 4). Returning NaN.\n",
      "  warnings.warn(\"Sample size is too small to estimate power (n <= 4). Returning NaN.\")\n",
      "/opt/anaconda3/envs/nature2023/lib/python3.11/site-packages/pingouin/power.py:861: UserWarning: Sample size is too small to estimate power (n <= 4). Returning NaN.\n",
      "  warnings.warn(\"Sample size is too small to estimate power (n <= 4). Returning NaN.\")\n",
      "/opt/anaconda3/envs/nature2023/lib/python3.11/site-packages/pingouin/power.py:861: UserWarning: Sample size is too small to estimate power (n <= 4). Returning NaN.\n",
      "  warnings.warn(\"Sample size is too small to estimate power (n <= 4). Returning NaN.\")\n",
      "/opt/anaconda3/envs/nature2023/lib/python3.11/site-packages/pingouin/power.py:861: UserWarning: Sample size is too small to estimate power (n <= 4). Returning NaN.\n",
      "  warnings.warn(\"Sample size is too small to estimate power (n <= 4). Returning NaN.\")\n",
      "/opt/anaconda3/envs/nature2023/lib/python3.11/site-packages/pingouin/power.py:861: UserWarning: Sample size is too small to estimate power (n <= 4). Returning NaN.\n",
      "  warnings.warn(\"Sample size is too small to estimate power (n <= 4). Returning NaN.\")\n",
      "/opt/anaconda3/envs/nature2023/lib/python3.11/site-packages/pingouin/power.py:861: UserWarning: Sample size is too small to estimate power (n <= 4). Returning NaN.\n",
      "  warnings.warn(\"Sample size is too small to estimate power (n <= 4). Returning NaN.\")\n",
      "/opt/anaconda3/envs/nature2023/lib/python3.11/site-packages/pingouin/power.py:861: UserWarning: Sample size is too small to estimate power (n <= 4). Returning NaN.\n",
      "  warnings.warn(\"Sample size is too small to estimate power (n <= 4). Returning NaN.\")\n",
      "/opt/anaconda3/envs/nature2023/lib/python3.11/site-packages/pingouin/power.py:861: UserWarning: Sample size is too small to estimate power (n <= 4). Returning NaN.\n",
      "  warnings.warn(\"Sample size is too small to estimate power (n <= 4). Returning NaN.\")\n",
      "/opt/anaconda3/envs/nature2023/lib/python3.11/site-packages/pingouin/power.py:861: UserWarning: Sample size is too small to estimate power (n <= 4). Returning NaN.\n",
      "  warnings.warn(\"Sample size is too small to estimate power (n <= 4). Returning NaN.\")\n",
      "/opt/anaconda3/envs/nature2023/lib/python3.11/site-packages/pingouin/power.py:861: UserWarning: Sample size is too small to estimate power (n <= 4). Returning NaN.\n",
      "  warnings.warn(\"Sample size is too small to estimate power (n <= 4). Returning NaN.\")\n",
      "/opt/anaconda3/envs/nature2023/lib/python3.11/site-packages/pingouin/power.py:861: UserWarning: Sample size is too small to estimate power (n <= 4). Returning NaN.\n",
      "  warnings.warn(\"Sample size is too small to estimate power (n <= 4). Returning NaN.\")\n",
      "/opt/anaconda3/envs/nature2023/lib/python3.11/site-packages/pingouin/power.py:861: UserWarning: Sample size is too small to estimate power (n <= 4). Returning NaN.\n",
      "  warnings.warn(\"Sample size is too small to estimate power (n <= 4). Returning NaN.\")\n",
      "/opt/anaconda3/envs/nature2023/lib/python3.11/site-packages/pingouin/power.py:861: UserWarning: Sample size is too small to estimate power (n <= 4). Returning NaN.\n",
      "  warnings.warn(\"Sample size is too small to estimate power (n <= 4). Returning NaN.\")\n",
      "/opt/anaconda3/envs/nature2023/lib/python3.11/site-packages/pingouin/power.py:861: UserWarning: Sample size is too small to estimate power (n <= 4). Returning NaN.\n",
      "  warnings.warn(\"Sample size is too small to estimate power (n <= 4). Returning NaN.\")\n",
      "/opt/anaconda3/envs/nature2023/lib/python3.11/site-packages/pingouin/power.py:861: UserWarning: Sample size is too small to estimate power (n <= 4). Returning NaN.\n",
      "  warnings.warn(\"Sample size is too small to estimate power (n <= 4). Returning NaN.\")\n",
      "/opt/anaconda3/envs/nature2023/lib/python3.11/site-packages/scipy/stats/_axis_nan_policy.py:531: UserWarning: Exact p-value calculation does not work if there are zeros. Switching to normal approximation.\n",
      "  res = hypotest_fun_out(*samples, **kwds)\n"
     ]
    }
   ],
   "source": [
    "unlearned_mat, unlearned_p = get_plot(df_rotate, 0)"
   ]
  },
  {
   "cell_type": "code",
   "execution_count": 513,
   "metadata": {},
   "outputs": [
    {
     "name": "stderr",
     "output_type": "stream",
     "text": [
      "/var/folders/js/6gw33t_51rqcvbmgmlr5ybtw0000gn/T/ipykernel_23370/2890800157.py:9: RuntimeWarning: All-NaN slice encountered\n",
      "  heatmap1 = sns.heatmap(np.nanmedian(this_coef, axis=-1), cmap=\"coolwarm\", vmin=-0.5, vmax=0.5, cbar=False, ax=axes[this_idx])\n",
      "/var/folders/js/6gw33t_51rqcvbmgmlr5ybtw0000gn/T/ipykernel_23370/2890800157.py:9: RuntimeWarning: All-NaN slice encountered\n",
      "  heatmap1 = sns.heatmap(np.nanmedian(this_coef, axis=-1), cmap=\"coolwarm\", vmin=-0.5, vmax=0.5, cbar=False, ax=axes[this_idx])\n"
     ]
    },
    {
     "data": {
      "image/png": "[encoded data removed]",
      "text/plain": [
       "<Figure size 840x300 with 3 Axes>"
      ]
     },
     "metadata": {},
     "output_type": "display_data"
    }
   ],
   "source": [
    "network_names = [\"DMN\", \"FPN+HLVC\", \"EVC\", \"Sensorimotor\"]\n",
    "fig, axes = plt.subplots(1, 2, figsize=(8.4, 3))\n",
    "\n",
    "for this_idx, (this_coef, p_mat, this_name) in enumerate(zip([learned_mat, unlearned_mat], [learned_p, unlearned_p], [\"Learned\", \"Unlearned\"])):\n",
    "    this_coef = this_coef.copy()\n",
    "\n",
    "    # Set the diagonal to nan\n",
    "    this_coef[np.eye(4, dtype=bool)] = np.nan\n",
    "    heatmap1 = sns.heatmap(np.nanmedian(this_coef, axis=-1), cmap=\"coolwarm\", vmin=-0.5, vmax=0.5, cbar=False, ax=axes[this_idx])\n",
    "\n",
    "    # Number of images\n",
    "    n_imgs = (~np.isnan(this_coef[0, 1, :])).sum()\n",
    "\n",
    "    for i in range(p_mat.shape[1]):\n",
    "        for j in range(p_mat.shape[0]):\n",
    "            if np.isnan(p_mat[i, j]) or i == j:\n",
    "                continue\n",
    "\n",
    "            if p_mat[i, j] < 0.05:\n",
    "                axes[this_idx].text(i+0.5, j+0.5, \"*\", ha='center', va='center', color=\"black\", fontsize=20)\n",
    "\n",
    "    axes[this_idx].set_title(f\"{this_name} images (N={n_imgs})\")\n",
    "    axes[this_idx].set_ylabel(\"\")\n",
    "    axes[this_idx].set_xlabel(\"\")\n",
    "\n",
    "    # Set the ticks\n",
    "    axes[this_idx].set_xticks(ticks=np.arange(4) + 0.5, labels=network_names, rotation=45)\n",
    "    if this_idx == 0:\n",
    "        axes[this_idx].set_yticks(ticks=np.arange(4) + 0.5, labels=network_names, rotation=0)\n",
    "    else:\n",
    "        axes[this_idx].set_yticks([], [])\n",
    "\n",
    "# Create a colorbar to the right without being in 2nd axis\n",
    "plt.colorbar(heatmap1.get_children()[0], ax=axes, orientation='vertical', label=\"Median correlation\")\n",
    "\n",
    "# plt.tight_layout()\n",
    "plt.savefig(\"/Users/chris/Desktop/correlation_mats.png\", dpi=1200, bbox_inches=\"tight\")"
   ]
  },
  {
   "cell_type": "code",
   "execution_count": 502,
   "metadata": {},
   "outputs": [],
   "source": [
    "import statsmodels.api as sm\n",
    "import statsmodels.formula.api as smf"
   ]
  },
  {
   "cell_type": "markdown",
   "metadata": {},
   "source": [
    "## Linear model on volume"
   ]
  },
  {
   "cell_type": "code",
   "execution_count": 503,
   "metadata": {},
   "outputs": [],
   "source": [
    "df_volume = df.copy()"
   ]
  },
  {
   "cell_type": "code",
   "execution_count": 504,
   "metadata": {},
   "outputs": [
    {
     "data": {
      "image/png": "[encoded data removed]",
      "text/plain": [
       "<Figure size 500x300 with 1 Axes>"
      ]
     },
     "metadata": {},
     "output_type": "display_data"
    }
   ],
   "source": [
    "m2_df = {\"Type\": [], \"Component\": [], \"coef\": [], \"ci_low\": [], \"ci_high\": [], \"p\": []}\n",
    "for component_idx, small_df in df_volume.groupby(\"component_idx\"):\n",
    "    model = smf.gee(\n",
    "        \"component_value ~ learning\",\n",
    "        data=small_df,\n",
    "        groups=\"subject\",\n",
    "        cov_struct=sm.cov_struct.Independence()\n",
    "    )\n",
    "    m2 = model.fit()\n",
    "\n",
    "    # First one is failed to xxx, and second one is success xxx\n",
    "    m2_df[\"Component\"].append(component_idx)\n",
    "    m2_df[\"Type\"].append(\"learning\")\n",
    "    m2_df[\"ci_low\"].append(m2.conf_int().iloc[1, 0])\n",
    "    m2_df[\"ci_high\"].append(m2.conf_int().iloc[1, 1])\n",
    "    m2_df[\"coef\"].append(m2.params[1])\n",
    "    m2_df[\"p\"].append(m2.pvalues[1])\n",
    "\n",
    "m2_df[\"q\"] = false_discovery_control(m2_df[\"p\"], method=\"bh\")\n",
    "m2_df = pd.DataFrame(m2_df)\n",
    "m2_df = m2_df.sort_values([\"Type\", \"Component\"])\n",
    "\n",
    "plt.figure(figsize=(5, 3))\n",
    "\n",
    "# Calculate the error bars as the difference from the estimate\n",
    "m2_df['err_lower'] = m2_df['coef'] - m2_df['ci_low']\n",
    "m2_df['err_upper'] = m2_df['ci_high'] - m2_df['coef']\n",
    "\n",
    "barplot = sns.barplot(data=m2_df, x=\"Component\", y=\"coef\", hue=\"Type\")\n",
    "\n",
    "# Manually add error bars\n",
    "bars = barplot.patches\n",
    "group_width = bars[0].get_width()\n",
    "for i in range(len(m2_df)):\n",
    "    bar = bars[i]\n",
    "    center = bar.get_x() + bar.get_width() / 2\n",
    "    plt.errorbar(x=center, y=m2_df['coef'].iloc[i], \n",
    "                 yerr=[[m2_df['err_lower'].iloc[i]], [m2_df['err_upper'].iloc[i]]],\n",
    "                 fmt='none', capsize=2, color='black')\n",
    "    \n",
    "    # If significant, add a star\n",
    "    if m2_df['q'].iloc[i] < 0.05:\n",
    "        if m2_df[\"coef\"].iloc[i] > 0:\n",
    "            plt.text(center + 0.1, m2_df['coef'].iloc[i] + 0.6, \"*\", ha='center', va='center', color=\"black\", fontsize=12)\n",
    "        if m2_df[\"coef\"].iloc[i] < 0:\n",
    "            plt.text(center + 0.1, m2_df['coef'].iloc[i] - 0.6, \"*\", ha='center', va='center', color=\"black\", fontsize=12)\n",
    "\n",
    "plt.gca().spines[['top', 'right']].set_visible(False)\n",
    "plt.axhline(0, color='black', linewidth=0.5)\n",
    "plt.ylabel(\"Information volume\")\n",
    "plt.savefig(\"/Users/chris/Desktop/volume.png\", dpi=1200)"
   ]
  }
 ],
 "metadata": {
  "kernelspec": {
   "display_name": "nature2023",
   "language": "python",
   "name": "python3"
  },
  "language_info": {
   "codemirror_mode": {
    "name": "ipython",
    "version": 3
   },
   "file_extension": ".py",
   "mimetype": "text/x-python",
   "name": "python",
   "nbconvert_exporter": "python",
   "pygments_lexer": "ipython3",
   "version": "3.11.8"
  }
 },
 "nbformat": 4,
 "nbformat_minor": 2
}
