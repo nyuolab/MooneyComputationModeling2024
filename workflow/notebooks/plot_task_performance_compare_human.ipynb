{
 "cells": [
  {
   "cell_type": "code",
   "execution_count": 5,
   "metadata": {},
   "outputs": [],
   "source": [
    "import numpy as np\n",
    "import pandas as pd\n",
    "import matplotlib.pyplot as plt\n",
    "import seaborn as sns\n",
    "\n",
    "from itertools import product"
   ]
  },
  {
   "cell_type": "code",
   "execution_count": 6,
   "metadata": {},
   "outputs": [],
   "source": [
    "df = pd.read_csv(\"/Users/chris/projects/Nature2023MooneyScripts/results/learning_comparison.csv\")"
   ]
  },
  {
   "cell_type": "code",
   "execution_count": 7,
   "metadata": {},
   "outputs": [
    {
     "data": {
      "text/html": [
       "<div>\n",
       "<style scoped>\n",
       "    .dataframe tbody tr th:only-of-type {\n",
       "        vertical-align: middle;\n",
       "    }\n",
       "\n",
       "    .dataframe tbody tr th {\n",
       "        vertical-align: top;\n",
       "    }\n",
       "\n",
       "    .dataframe thead th {\n",
       "        text-align: right;\n",
       "    }\n",
       "</style>\n",
       "<table border=\"1\" class=\"dataframe\">\n",
       "  <thead>\n",
       "    <tr style=\"text-align: right;\">\n",
       "      <th></th>\n",
       "      <th>Source</th>\n",
       "      <th>Detailed source</th>\n",
       "      <th>Subject</th>\n",
       "      <th>Image index</th>\n",
       "      <th>Phase</th>\n",
       "      <th>Correct</th>\n",
       "      <th>Predicted</th>\n",
       "      <th>Ground truth class</th>\n",
       "    </tr>\n",
       "  </thead>\n",
       "  <tbody>\n",
       "    <tr>\n",
       "      <th>0</th>\n",
       "      <td>Human</td>\n",
       "      <td>Human-0</td>\n",
       "      <td>0</td>\n",
       "      <td>0</td>\n",
       "      <td>pre</td>\n",
       "      <td>1</td>\n",
       "      <td>???</td>\n",
       "      <td>dog</td>\n",
       "    </tr>\n",
       "    <tr>\n",
       "      <th>1</th>\n",
       "      <td>Human</td>\n",
       "      <td>Human-0</td>\n",
       "      <td>0</td>\n",
       "      <td>0</td>\n",
       "      <td>gray</td>\n",
       "      <td>1</td>\n",
       "      <td>???</td>\n",
       "      <td>dog</td>\n",
       "    </tr>\n",
       "    <tr>\n",
       "      <th>2</th>\n",
       "      <td>Human</td>\n",
       "      <td>Human-0</td>\n",
       "      <td>0</td>\n",
       "      <td>0</td>\n",
       "      <td>post</td>\n",
       "      <td>1</td>\n",
       "      <td>???</td>\n",
       "      <td>dog</td>\n",
       "    </tr>\n",
       "    <tr>\n",
       "      <th>3</th>\n",
       "      <td>Human</td>\n",
       "      <td>Human-1</td>\n",
       "      <td>1</td>\n",
       "      <td>0</td>\n",
       "      <td>pre</td>\n",
       "      <td>0</td>\n",
       "      <td>???</td>\n",
       "      <td>dog</td>\n",
       "    </tr>\n",
       "    <tr>\n",
       "      <th>4</th>\n",
       "      <td>Human</td>\n",
       "      <td>Human-1</td>\n",
       "      <td>1</td>\n",
       "      <td>0</td>\n",
       "      <td>gray</td>\n",
       "      <td>1</td>\n",
       "      <td>???</td>\n",
       "      <td>dog</td>\n",
       "    </tr>\n",
       "  </tbody>\n",
       "</table>\n",
       "</div>"
      ],
      "text/plain": [
       "  Source Detailed source  Subject  Image index Phase Correct Predicted  \\\n",
       "0  Human         Human-0        0            0   pre       1       ???   \n",
       "1  Human         Human-0        0            0  gray       1       ???   \n",
       "2  Human         Human-0        0            0  post       1       ???   \n",
       "3  Human         Human-1        1            0   pre       0       ???   \n",
       "4  Human         Human-1        1            0  gray       1       ???   \n",
       "\n",
       "  Ground truth class  \n",
       "0                dog  \n",
       "1                dog  \n",
       "2                dog  \n",
       "3                dog  \n",
       "4                dog  "
      ]
     },
     "execution_count": 7,
     "metadata": {},
     "output_type": "execute_result"
    }
   ],
   "source": [
    "df.head()"
   ]
  },
  {
   "cell_type": "markdown",
   "metadata": {},
   "source": [
    "## Rank human performance"
   ]
  },
  {
   "cell_type": "code",
   "execution_count": 8,
   "metadata": {},
   "outputs": [
    {
     "data": {
      "text/plain": [
       "array([ 75,   3, 140, 134, 121, 158,  76, 174, 142,  87, 120, 118,  96,\n",
       "        90,  60,  13, 126, 123, 175, 102,  79, 170,   4,   2, 107,  78,\n",
       "       150, 144, 212,   7,  81, 136, 135,  15, 114, 199, 160,  26, 122,\n",
       "       200,  20,  29,  74, 117, 155, 154, 115, 151, 100,  98,  77, 105,\n",
       "        99, 143,  80, 130, 116,  83, 109, 108,  10,  27,  21,  37,  19,\n",
       "       203,  47,  17, 166,  64,  56,  55,  12,  23,  89,  93,  25,  94,\n",
       "         5, 193, 196,   8, 197, 186, 205,  88,  73,  69,  33, 156])"
      ]
     },
     "execution_count": 8,
     "metadata": {},
     "output_type": "execute_result"
    }
   ],
   "source": [
    "human_df = df[df[\"Source\"] == \"Human\"]\n",
    "n_images = len(human_df[\"Image index\"].unique())\n",
    "n_subjects = len(human_df[\"Subject\"].unique())\n",
    "\n",
    "corrects = np.full((n_subjects, n_images, 2), np.nan)\n",
    "for (subject, phase, image_index), small_df in human_df.groupby(\n",
    "    [\"Subject\", \"Phase\", \"Image index\"]\n",
    "):\n",
    "    if phase == \"pre\":\n",
    "        corrects[subject, image_index, 0] = small_df[\"Correct\"].astype(int).mean()\n",
    "    elif phase == \"post\":\n",
    "        corrects[subject, image_index, 1] = small_df[\"Correct\"].astype(int).mean()\n",
    "\n",
    "# Calculate 0, 1 pattern\n",
    "vote = ((corrects[:, :, 0] == 0) & (corrects[:, :, 1] == 1)).sum(0)\n",
    "vote\n",
    "\n",
    "# Top 90 images\n",
    "top_90_images = vote.argsort()[-90:][::-1]\n",
    "top_90_images"
   ]
  },
  {
   "cell_type": "code",
   "execution_count": 9,
   "metadata": {},
   "outputs": [],
   "source": [
    "# Only keep these 90\n",
    "df = df[df[\"Image index\"].isin(top_90_images)]"
   ]
  },
  {
   "cell_type": "markdown",
   "metadata": {},
   "source": [
    "## Find which classes the model couldn't possibly get"
   ]
  },
  {
   "cell_type": "code",
   "execution_count": 10,
   "metadata": {},
   "outputs": [],
   "source": [
    "to_parse = df[df[\"Source\"] != \"Human\"]"
   ]
  },
  {
   "cell_type": "code",
   "execution_count": 11,
   "metadata": {},
   "outputs": [],
   "source": [
    "target_class = df[\"Ground truth class\"]"
   ]
  },
  {
   "cell_type": "code",
   "execution_count": 12,
   "metadata": {},
   "outputs": [],
   "source": [
    "pred_class = df[\"Predicted\"]"
   ]
  },
  {
   "cell_type": "code",
   "execution_count": 13,
   "metadata": {},
   "outputs": [],
   "source": [
    "import json\n",
    "\n",
    "# Load the mapping\n",
    "mapping = json.load(open(\"../../data/imagenet_label_to_wordnet_synset.json\"))\n",
    "behavior_mapping = json.load(open(\"../../data/wordnet_translation.json\"))"
   ]
  },
  {
   "cell_type": "code",
   "execution_count": 14,
   "metadata": {},
   "outputs": [],
   "source": [
    "from nltk.corpus import wordnet as wn"
   ]
  },
  {
   "cell_type": "code",
   "execution_count": 15,
   "metadata": {},
   "outputs": [],
   "source": [
    "mapper_imagenet_name_2_wn_synset = {}\n",
    "\n",
    "unknown_class = []\n",
    "all_target_classes = set(target_class)\n",
    "for c in all_target_classes:\n",
    "    has_match = False\n",
    "    for imagenet_class_d in mapping.values():\n",
    "\n",
    "        # Get the synset of imagenet class\n",
    "        synset = wn.synset_from_pos_and_offset(\"n\", int(imagenet_class_d[\"id\"].split(\"-\")[0]))\n",
    "\n",
    "        if imagenet_class_d[\"label\"] not in mapper_imagenet_name_2_wn_synset:\n",
    "            mapper_imagenet_name_2_wn_synset[imagenet_class_d[\"label\"]] = synset\n",
    "\n",
    "        # Get the synset of the target class\n",
    "        target_synset = wn.synset(behavior_mapping[c])\n",
    "\n",
    "        # If has a match\n",
    "        if target_synset in synset.lowest_common_hypernyms(target_synset):\n",
    "            has_match = True\n",
    "\n",
    "    if not has_match:\n",
    "        unknown_class.append(c)\n",
    "\n",
    "# ImageNet doesn't have person\n",
    "unknown_class.append(\"person\")"
   ]
  },
  {
   "cell_type": "code",
   "execution_count": 16,
   "metadata": {},
   "outputs": [],
   "source": [
    "# This is not terribly accurate. Remove unknown_classes that are known to be predicted\n",
    "final_unknown_class = []\n",
    "for c in unknown_class:\n",
    "    if c not in df[\"Predicted\"].unique():\n",
    "        final_unknown_class.append(c)"
   ]
  },
  {
   "cell_type": "code",
   "execution_count": 17,
   "metadata": {},
   "outputs": [],
   "source": [
    "final_unknown_class.remove(\"barrel\")"
   ]
  },
  {
   "cell_type": "code",
   "execution_count": 18,
   "metadata": {},
   "outputs": [
    {
     "data": {
      "text/plain": [
       "['bonsai', 'helicopter', 'anchor', 'chandelier', 'statue', 'person']"
      ]
     },
     "execution_count": 18,
     "metadata": {},
     "output_type": "execute_result"
    }
   ],
   "source": [
    "final_unknown_class"
   ]
  },
  {
   "cell_type": "code",
   "execution_count": 19,
   "metadata": {},
   "outputs": [
    {
     "data": {
      "text/plain": [
       "12"
      ]
     },
     "execution_count": 19,
     "metadata": {},
     "output_type": "execute_result"
    }
   ],
   "source": [
    "check_dropped_df = df.groupby(\"Image index\").agg({\"Ground truth class\": \"first\"}).reset_index()\n",
    "len(check_dropped_df[check_dropped_df[\"Ground truth class\"].isin(final_unknown_class)])"
   ]
  },
  {
   "cell_type": "markdown",
   "metadata": {},
   "source": [
    "## Convert the classes to model's"
   ]
  },
  {
   "cell_type": "code",
   "execution_count": 20,
   "metadata": {},
   "outputs": [],
   "source": [
    "other_pairs = [\n",
    "    (\"tusker\", \"elephant\"),\n",
    "    (\"scooter\", \"moped\"),\n",
    "    (\"trolley\", \"trolley\"),\n",
    "    (\"trimaran\", \"boat\"),\n",
    "    (\"catamaran\", \"boat\"),\n",
    "    (\"palace\", \"castle\"),\n",
    "]\n",
    "\n",
    "# Mark removal of unknown classes\n",
    "df[\"to_remove\"] = False\n",
    "for idx, row in df.iterrows():\n",
    "\n",
    "    if row[\"Ground truth class\"] in final_unknown_class:\n",
    "        df.loc[idx, \"to_remove\"] = True\n",
    "        continue\n",
    "\n",
    "    if row[\"Correct\"] in [\"0\", \"1\"]:\n",
    "        df.loc[idx, \"Correct\"] = int(row[\"Correct\"])\n",
    "\n",
    "    match = False\n",
    "    for pair in other_pairs:\n",
    "        if pair[0] in row[\"Predicted\"] and pair[1] in row[\"Ground truth class\"]:\n",
    "            df.loc[idx, \"Correct\"] = 1\n",
    "            match = True\n",
    "            break\n",
    "\n",
    "    if match:\n",
    "        continue\n",
    "\n",
    "    if row[\"Source\"] == \"Model\":\n",
    "        target_name = row[\"Ground truth class\"]\n",
    "        pred_name = row[\"Predicted\"]\n",
    "\n",
    "        # This should be ignored\n",
    "        if pred_name == \"crane2\":\n",
    "            pred_name = \"crane\"\n",
    "\n",
    "        if target_name == pred_name:\n",
    "            df.loc[idx, \"Correct\"] = 1\n",
    "\n",
    "        else:\n",
    "            # If the lowest common hypernym is the ground truth or the prediction, count as correct\n",
    "            imagenet_class_synset = mapper_imagenet_name_2_wn_synset[pred_name]\n",
    "\n",
    "            # Get the groundtruth synset\n",
    "            gt_synset = wn.synset(behavior_mapping[target_name])\n",
    "\n",
    "            # Get the LCH\n",
    "            lch = imagenet_class_synset.lowest_common_hypernyms(gt_synset)\n",
    "            if any([lch_synset == gt_synset for lch_synset in lch]):\n",
    "                df.loc[idx, \"Correct\"] = 1\n",
    "            elif any([lch_synset == imagenet_class_synset for lch_synset in lch]):\n",
    "                df.loc[idx, \"Correct\"] = 1\n",
    "            else:\n",
    "                df.loc[idx, \"Correct\"] = 0"
   ]
  },
  {
   "cell_type": "code",
   "execution_count": 21,
   "metadata": {},
   "outputs": [
    {
     "data": {
      "text/html": [
       "<div>\n",
       "<style scoped>\n",
       "    .dataframe tbody tr th:only-of-type {\n",
       "        vertical-align: middle;\n",
       "    }\n",
       "\n",
       "    .dataframe tbody tr th {\n",
       "        vertical-align: top;\n",
       "    }\n",
       "\n",
       "    .dataframe thead th {\n",
       "        text-align: right;\n",
       "    }\n",
       "</style>\n",
       "<table border=\"1\" class=\"dataframe\">\n",
       "  <thead>\n",
       "    <tr style=\"text-align: right;\">\n",
       "      <th></th>\n",
       "      <th>Source</th>\n",
       "      <th>Detailed source</th>\n",
       "      <th>Subject</th>\n",
       "      <th>Image index</th>\n",
       "      <th>Phase</th>\n",
       "      <th>Correct</th>\n",
       "      <th>Predicted</th>\n",
       "      <th>Ground truth class</th>\n",
       "      <th>to_remove</th>\n",
       "    </tr>\n",
       "  </thead>\n",
       "  <tbody>\n",
       "    <tr>\n",
       "      <th>72</th>\n",
       "      <td>Human</td>\n",
       "      <td>Human-0</td>\n",
       "      <td>0</td>\n",
       "      <td>2</td>\n",
       "      <td>pre</td>\n",
       "      <td>0</td>\n",
       "      <td>???</td>\n",
       "      <td>ox</td>\n",
       "      <td>False</td>\n",
       "    </tr>\n",
       "    <tr>\n",
       "      <th>73</th>\n",
       "      <td>Human</td>\n",
       "      <td>Human-0</td>\n",
       "      <td>0</td>\n",
       "      <td>2</td>\n",
       "      <td>gray</td>\n",
       "      <td>1</td>\n",
       "      <td>???</td>\n",
       "      <td>ox</td>\n",
       "      <td>False</td>\n",
       "    </tr>\n",
       "    <tr>\n",
       "      <th>74</th>\n",
       "      <td>Human</td>\n",
       "      <td>Human-0</td>\n",
       "      <td>0</td>\n",
       "      <td>2</td>\n",
       "      <td>post</td>\n",
       "      <td>0</td>\n",
       "      <td>???</td>\n",
       "      <td>ox</td>\n",
       "      <td>False</td>\n",
       "    </tr>\n",
       "    <tr>\n",
       "      <th>75</th>\n",
       "      <td>Human</td>\n",
       "      <td>Human-1</td>\n",
       "      <td>1</td>\n",
       "      <td>2</td>\n",
       "      <td>pre</td>\n",
       "      <td>0</td>\n",
       "      <td>???</td>\n",
       "      <td>ox</td>\n",
       "      <td>False</td>\n",
       "    </tr>\n",
       "    <tr>\n",
       "      <th>76</th>\n",
       "      <td>Human</td>\n",
       "      <td>Human-1</td>\n",
       "      <td>1</td>\n",
       "      <td>2</td>\n",
       "      <td>gray</td>\n",
       "      <td>1</td>\n",
       "      <td>???</td>\n",
       "      <td>ox</td>\n",
       "      <td>False</td>\n",
       "    </tr>\n",
       "    <tr>\n",
       "      <th>...</th>\n",
       "      <td>...</td>\n",
       "      <td>...</td>\n",
       "      <td>...</td>\n",
       "      <td>...</td>\n",
       "      <td>...</td>\n",
       "      <td>...</td>\n",
       "      <td>...</td>\n",
       "      <td>...</td>\n",
       "      <td>...</td>\n",
       "    </tr>\n",
       "    <tr>\n",
       "      <th>39371</th>\n",
       "      <td>Model</td>\n",
       "      <td>Model-3-11</td>\n",
       "      <td>11</td>\n",
       "      <td>203</td>\n",
       "      <td>gray</td>\n",
       "      <td>1</td>\n",
       "      <td>throne</td>\n",
       "      <td>chair</td>\n",
       "      <td>False</td>\n",
       "    </tr>\n",
       "    <tr>\n",
       "      <th>39376</th>\n",
       "      <td>Model</td>\n",
       "      <td>Model-3-11</td>\n",
       "      <td>11</td>\n",
       "      <td>205</td>\n",
       "      <td>pre</td>\n",
       "      <td>1</td>\n",
       "      <td>tusker</td>\n",
       "      <td>elephant</td>\n",
       "      <td>False</td>\n",
       "    </tr>\n",
       "    <tr>\n",
       "      <th>39377</th>\n",
       "      <td>Model</td>\n",
       "      <td>Model-3-11</td>\n",
       "      <td>11</td>\n",
       "      <td>203</td>\n",
       "      <td>post</td>\n",
       "      <td>0</td>\n",
       "      <td>triceratops</td>\n",
       "      <td>chair</td>\n",
       "      <td>False</td>\n",
       "    </tr>\n",
       "    <tr>\n",
       "      <th>39379</th>\n",
       "      <td>Model</td>\n",
       "      <td>Model-3-11</td>\n",
       "      <td>11</td>\n",
       "      <td>205</td>\n",
       "      <td>gray</td>\n",
       "      <td>1</td>\n",
       "      <td>African elephant, Loxodonta africana</td>\n",
       "      <td>elephant</td>\n",
       "      <td>False</td>\n",
       "    </tr>\n",
       "    <tr>\n",
       "      <th>39383</th>\n",
       "      <td>Model</td>\n",
       "      <td>Model-3-11</td>\n",
       "      <td>11</td>\n",
       "      <td>205</td>\n",
       "      <td>post</td>\n",
       "      <td>1</td>\n",
       "      <td>African elephant, Loxodonta africana</td>\n",
       "      <td>elephant</td>\n",
       "      <td>False</td>\n",
       "    </tr>\n",
       "  </tbody>\n",
       "</table>\n",
       "<p>14040 rows × 9 columns</p>\n",
       "</div>"
      ],
      "text/plain": [
       "      Source Detailed source  Subject  Image index Phase Correct  \\\n",
       "72     Human         Human-0        0            2   pre       0   \n",
       "73     Human         Human-0        0            2  gray       1   \n",
       "74     Human         Human-0        0            2  post       0   \n",
       "75     Human         Human-1        1            2   pre       0   \n",
       "76     Human         Human-1        1            2  gray       1   \n",
       "...      ...             ...      ...          ...   ...     ...   \n",
       "39371  Model      Model-3-11       11          203  gray       1   \n",
       "39376  Model      Model-3-11       11          205   pre       1   \n",
       "39377  Model      Model-3-11       11          203  post       0   \n",
       "39379  Model      Model-3-11       11          205  gray       1   \n",
       "39383  Model      Model-3-11       11          205  post       1   \n",
       "\n",
       "                                  Predicted Ground truth class  to_remove  \n",
       "72                                      ???                 ox      False  \n",
       "73                                      ???                 ox      False  \n",
       "74                                      ???                 ox      False  \n",
       "75                                      ???                 ox      False  \n",
       "76                                      ???                 ox      False  \n",
       "...                                     ...                ...        ...  \n",
       "39371                                throne              chair      False  \n",
       "39376                                tusker           elephant      False  \n",
       "39377                           triceratops              chair      False  \n",
       "39379  African elephant, Loxodonta africana           elephant      False  \n",
       "39383  African elephant, Loxodonta africana           elephant      False  \n",
       "\n",
       "[14040 rows x 9 columns]"
      ]
     },
     "execution_count": 21,
     "metadata": {},
     "output_type": "execute_result"
    }
   ],
   "source": [
    "df_new = df[~df[\"to_remove\"]]\n",
    "df_new"
   ]
  },
  {
   "cell_type": "code",
   "execution_count": 22,
   "metadata": {},
   "outputs": [
    {
     "name": "stderr",
     "output_type": "stream",
     "text": [
      "/var/folders/js/6gw33t_51rqcvbmgmlr5ybtw0000gn/T/ipykernel_87350/191651671.py:1: SettingWithCopyWarning: \n",
      "A value is trying to be set on a copy of a slice from a DataFrame\n",
      "\n",
      "See the caveats in the documentation: https://pandas.pydata.org/pandas-docs/stable/user_guide/indexing.html#returning-a-view-versus-a-copy\n",
      "  df_new.drop(columns=[\"to_remove\"], inplace=True)\n"
     ]
    }
   ],
   "source": [
    "df_new.drop(columns=[\"to_remove\"], inplace=True)"
   ]
  },
  {
   "cell_type": "code",
   "execution_count": 23,
   "metadata": {},
   "outputs": [
    {
     "data": {
      "text/html": [
       "<div>\n",
       "<style scoped>\n",
       "    .dataframe tbody tr th:only-of-type {\n",
       "        vertical-align: middle;\n",
       "    }\n",
       "\n",
       "    .dataframe tbody tr th {\n",
       "        vertical-align: top;\n",
       "    }\n",
       "\n",
       "    .dataframe thead th {\n",
       "        text-align: right;\n",
       "    }\n",
       "</style>\n",
       "<table border=\"1\" class=\"dataframe\">\n",
       "  <thead>\n",
       "    <tr style=\"text-align: right;\">\n",
       "      <th></th>\n",
       "      <th>Source</th>\n",
       "      <th>Detailed source</th>\n",
       "      <th>Subject</th>\n",
       "      <th>Image index</th>\n",
       "      <th>Phase</th>\n",
       "      <th>Correct</th>\n",
       "    </tr>\n",
       "  </thead>\n",
       "  <tbody>\n",
       "    <tr>\n",
       "      <th>72</th>\n",
       "      <td>Human</td>\n",
       "      <td>Human-0</td>\n",
       "      <td>0</td>\n",
       "      <td>2</td>\n",
       "      <td>pre</td>\n",
       "      <td>0</td>\n",
       "    </tr>\n",
       "    <tr>\n",
       "      <th>73</th>\n",
       "      <td>Human</td>\n",
       "      <td>Human-0</td>\n",
       "      <td>0</td>\n",
       "      <td>2</td>\n",
       "      <td>gray</td>\n",
       "      <td>1</td>\n",
       "    </tr>\n",
       "    <tr>\n",
       "      <th>74</th>\n",
       "      <td>Human</td>\n",
       "      <td>Human-0</td>\n",
       "      <td>0</td>\n",
       "      <td>2</td>\n",
       "      <td>post</td>\n",
       "      <td>0</td>\n",
       "    </tr>\n",
       "    <tr>\n",
       "      <th>75</th>\n",
       "      <td>Human</td>\n",
       "      <td>Human-1</td>\n",
       "      <td>1</td>\n",
       "      <td>2</td>\n",
       "      <td>pre</td>\n",
       "      <td>0</td>\n",
       "    </tr>\n",
       "    <tr>\n",
       "      <th>76</th>\n",
       "      <td>Human</td>\n",
       "      <td>Human-1</td>\n",
       "      <td>1</td>\n",
       "      <td>2</td>\n",
       "      <td>gray</td>\n",
       "      <td>1</td>\n",
       "    </tr>\n",
       "  </tbody>\n",
       "</table>\n",
       "</div>"
      ],
      "text/plain": [
       "   Source Detailed source  Subject  Image index Phase  Correct\n",
       "72  Human         Human-0        0            2   pre        0\n",
       "73  Human         Human-0        0            2  gray        1\n",
       "74  Human         Human-0        0            2  post        0\n",
       "75  Human         Human-1        1            2   pre        0\n",
       "76  Human         Human-1        1            2  gray        1"
      ]
     },
     "execution_count": 23,
     "metadata": {},
     "output_type": "execute_result"
    }
   ],
   "source": [
    "df = df_new.drop(columns=[\"Ground truth class\", \"Predicted\"])\n",
    "df[\"Correct\"] = df[\"Correct\"].astype(int)\n",
    "df.head()"
   ]
  },
  {
   "cell_type": "code",
   "execution_count": 24,
   "metadata": {},
   "outputs": [],
   "source": [
    "df.to_clipboard()"
   ]
  },
  {
   "cell_type": "markdown",
   "metadata": {},
   "source": [
    "## Performance comparison"
   ]
  },
  {
   "cell_type": "code",
   "execution_count": 25,
   "metadata": {},
   "outputs": [
    {
     "data": {
      "text/html": [
       "<div>\n",
       "<style scoped>\n",
       "    .dataframe tbody tr th:only-of-type {\n",
       "        vertical-align: middle;\n",
       "    }\n",
       "\n",
       "    .dataframe tbody tr th {\n",
       "        vertical-align: top;\n",
       "    }\n",
       "\n",
       "    .dataframe thead th {\n",
       "        text-align: right;\n",
       "    }\n",
       "</style>\n",
       "<table border=\"1\" class=\"dataframe\">\n",
       "  <thead>\n",
       "    <tr style=\"text-align: right;\">\n",
       "      <th></th>\n",
       "      <th>Subject</th>\n",
       "      <th>Source</th>\n",
       "      <th>Phase</th>\n",
       "      <th>Correct</th>\n",
       "    </tr>\n",
       "  </thead>\n",
       "  <tbody>\n",
       "    <tr>\n",
       "      <th>0</th>\n",
       "      <td>0</td>\n",
       "      <td>Human</td>\n",
       "      <td>gray</td>\n",
       "      <td>0.858974</td>\n",
       "    </tr>\n",
       "    <tr>\n",
       "      <th>1</th>\n",
       "      <td>0</td>\n",
       "      <td>Human</td>\n",
       "      <td>post</td>\n",
       "      <td>0.551282</td>\n",
       "    </tr>\n",
       "    <tr>\n",
       "      <th>2</th>\n",
       "      <td>0</td>\n",
       "      <td>Human</td>\n",
       "      <td>pre</td>\n",
       "      <td>0.141026</td>\n",
       "    </tr>\n",
       "    <tr>\n",
       "      <th>3</th>\n",
       "      <td>0</td>\n",
       "      <td>Model</td>\n",
       "      <td>gray</td>\n",
       "      <td>0.929487</td>\n",
       "    </tr>\n",
       "    <tr>\n",
       "      <th>4</th>\n",
       "      <td>0</td>\n",
       "      <td>Model</td>\n",
       "      <td>post</td>\n",
       "      <td>0.637821</td>\n",
       "    </tr>\n",
       "    <tr>\n",
       "      <th>5</th>\n",
       "      <td>0</td>\n",
       "      <td>Model</td>\n",
       "      <td>pre</td>\n",
       "      <td>0.326923</td>\n",
       "    </tr>\n",
       "  </tbody>\n",
       "</table>\n",
       "</div>"
      ],
      "text/plain": [
       "   Subject Source Phase   Correct\n",
       "0        0  Human  gray  0.858974\n",
       "1        0  Human  post  0.551282\n",
       "2        0  Human   pre  0.141026\n",
       "3        0  Model  gray  0.929487\n",
       "4        0  Model  post  0.637821\n",
       "5        0  Model   pre  0.326923"
      ]
     },
     "execution_count": 25,
     "metadata": {},
     "output_type": "execute_result"
    }
   ],
   "source": [
    "# Aggregate by subject and source\n",
    "agg_df = df.drop(columns=[\"Image index\"])\n",
    "agg_df = agg_df.groupby([\"Subject\", \"Source\", \"Phase\"]).mean(numeric_only=True).reset_index()\n",
    "agg_df.head(6)"
   ]
  },
  {
   "cell_type": "code",
   "execution_count": 26,
   "metadata": {},
   "outputs": [],
   "source": [
    "# agg_df.to_clipboard()"
   ]
  },
  {
   "cell_type": "code",
   "execution_count": 27,
   "metadata": {},
   "outputs": [
    {
     "data": {
      "image/png": "[encoded data removed]",
      "text/plain": [
       "<Figure size 500x400 with 1 Axes>"
      ]
     },
     "metadata": {},
     "output_type": "display_data"
    }
   ],
   "source": [
    "plt.figure(figsize=(5, 4))\n",
    "sns.boxplot(data=agg_df, x=\"Source\", y=\"Correct\", hue=\"Phase\", hue_order=[\"pre\", \"post\"])\n",
    "\n",
    "# Plot the differences\n",
    "mean_pre_human = agg_df[(agg_df[\"Source\"] == \"Human\") & (agg_df[\"Phase\"] == \"pre\")][\"Correct\"].median()\n",
    "mean_post_human = agg_df[(agg_df[\"Source\"] == \"Human\") & (agg_df[\"Phase\"] == \"post\")][\"Correct\"].median()\n",
    "plt.plot([-0.4, 0.5], [mean_pre_human, mean_pre_human], color=\"k\", linestyle=\"--\")\n",
    "plt.plot([0.3, 0.5], [mean_post_human, mean_post_human], color=\"k\", linestyle=\"--\")\n",
    "\n",
    "# Draw arrow between their means\n",
    "plt.annotate('', xy=(0.5, mean_pre_human), xytext=(0.5, mean_post_human),\n",
    "             arrowprops=dict(arrowstyle='<|-|>', lw=2))\n",
    "plt.annotate(f'{100 * (mean_post_human - mean_pre_human):.2f}%', xy=(0.53, (mean_post_human + mean_pre_human) / 2))\n",
    "\n",
    "# Plot the differences\n",
    "mean_pre_model = agg_df[(agg_df[\"Source\"] == \"Model\") & (agg_df[\"Phase\"] == \"pre\")][\"Correct\"].median()\n",
    "mean_post_model = agg_df[(agg_df[\"Source\"] == \"Model\") & (agg_df[\"Phase\"] == \"post\")][\"Correct\"].median()\n",
    "plt.plot([1-0.4, 1.5], [mean_pre_model, mean_pre_model], color=\"k\", linestyle=\"--\")\n",
    "plt.plot([1.3, 1.5], [mean_post_model, mean_post_model], color=\"k\", linestyle=\"--\")\n",
    "\n",
    "# Draw arrow between their means\n",
    "plt.annotate('', xy=(1.5, mean_pre_model), xytext=(1.5, mean_post_model),\n",
    "             arrowprops=dict(arrowstyle='<|-|>', lw=2))\n",
    "plt.annotate(f'{100 * (mean_post_model - mean_pre_model):.2f}%', xy=(1.1, (mean_post_model + mean_pre_model) / 2))\n",
    "\n",
    "# Turn off boundary\n",
    "plt.title(\"Comparing human and model learning\")\n",
    "plt.tight_layout()"
   ]
  },
  {
   "cell_type": "code",
   "execution_count": 28,
   "metadata": {},
   "outputs": [
    {
     "data": {
      "text/plain": [
       "(0.717948717948718, 0.655448717948718)"
      ]
     },
     "execution_count": 28,
     "metadata": {},
     "output_type": "execute_result"
    }
   ],
   "source": [
    "mean_post_human, mean_post_model"
   ]
  },
  {
   "cell_type": "code",
   "execution_count": 29,
   "metadata": {},
   "outputs": [
    {
     "data": {
      "image/png": "[encoded data removed]",
      "text/plain": [
       "<Figure size 500x400 with 1 Axes>"
      ]
     },
     "metadata": {},
     "output_type": "display_data"
    }
   ],
   "source": [
    "plt.figure(figsize=(5, 4))\n",
    "sns.boxplot(data=agg_df, x=\"Source\", y=\"Correct\", hue=\"Phase\", hue_order=[\"pre\", \"post\"])\n",
    "\n",
    "# Plot the differences\n",
    "mean_pre_human = agg_df[(agg_df[\"Source\"] == \"Human\") & (agg_df[\"Phase\"] == \"pre\")][\"Correct\"].median()\n",
    "mean_post_human = agg_df[(agg_df[\"Source\"] == \"Human\") & (agg_df[\"Phase\"] == \"post\")][\"Correct\"].median()\n",
    "plt.plot([-0.4, -0.6], [mean_pre_human, mean_pre_human], color=\"k\", linestyle=\"--\")\n",
    "plt.plot([-0.6, 0.7], [mean_post_human, mean_post_human], color=\"k\", linestyle=\"--\")\n",
    "\n",
    "# Draw arrow between their means\n",
    "plt.annotate('', xy=(-0.6, mean_pre_human), xytext=(-0.6, mean_post_human),\n",
    "             arrowprops=dict(arrowstyle='<|-|>', lw=2))\n",
    "plt.annotate(f'{100 * (mean_post_human - mean_pre_human):.2f}%', xy=(-0.57, (mean_post_human + mean_pre_human) / 2))\n",
    "\n",
    "# Plot the differences\n",
    "mean_pre_model = agg_df[(agg_df[\"Source\"] == \"Model\") & (agg_df[\"Phase\"] == \"pre\")][\"Correct\"].median()\n",
    "mean_post_model = agg_df[(agg_df[\"Source\"] == \"Model\") & (agg_df[\"Phase\"] == \"post\")][\"Correct\"].median()\n",
    "plt.plot([1-0.4, 1.5], [mean_pre_model, mean_pre_model], color=\"k\", linestyle=\"--\")\n",
    "plt.plot([0.7, 1.5], [mean_post_model, mean_post_model], color=\"k\", linestyle=\"--\")\n",
    "\n",
    "# Draw arrow between their means\n",
    "plt.annotate('', xy=(1.5, mean_pre_model), xytext=(1.5, mean_post_model),\n",
    "             arrowprops=dict(arrowstyle='<|-|>', lw=2))\n",
    "plt.annotate(f'{100 * (mean_post_model - mean_pre_model):.2f}%', xy=(1.1, (mean_post_model + mean_pre_model) / 2))\n",
    "\n",
    "# Draw arrow between model and human post mean\n",
    "plt.annotate('', xy=(0.7, mean_post_human), xytext=(0.7, mean_post_model),\n",
    "             arrowprops=dict(arrowstyle='<|-|>', lw=2))\n",
    "plt.annotate(f'{100 * (mean_post_human - mean_post_model):.2f}%', xy=(0.74, (mean_post_human + mean_post_model) / 2))\n",
    "\n",
    "# Make y axis Accuracy percentage\n",
    "plt.yticks(np.arange(0.2, 1, 0.1), [f\"{int(100 * i)}%\" for i in np.arange(0.2, 1, 0.1)])\n",
    "plt.ylabel(\"Accuracy\")\n",
    "\n",
    "# Turn off boundary\n",
    "plt.title(\"Model and human learning comparison in online study\")\n",
    "plt.tight_layout()"
   ]
  },
  {
   "cell_type": "code",
   "execution_count": 30,
   "metadata": {},
   "outputs": [
    {
     "data": {
      "text/plain": [
       "<Axes: xlabel='Phase', ylabel='Correct'>"
      ]
     },
     "execution_count": 30,
     "metadata": {},
     "output_type": "execute_result"
    },
    {
     "data": {
      "image/png": "[encoded data removed]",
      "text/plain": [
       "<Figure size 640x480 with 1 Axes>"
      ]
     },
     "metadata": {},
     "output_type": "display_data"
    }
   ],
   "source": [
    "sns.barplot(data=agg_df, x=\"Phase\", y=\"Correct\", hue=\"Source\", order=[\"pre\", \"post\", \"gray\"])"
   ]
  },
  {
   "cell_type": "code",
   "execution_count": 31,
   "metadata": {},
   "outputs": [
    {
     "data": {
      "text/html": [
       "<div>\n",
       "<style scoped>\n",
       "    .dataframe tbody tr th:only-of-type {\n",
       "        vertical-align: middle;\n",
       "    }\n",
       "\n",
       "    .dataframe tbody tr th {\n",
       "        vertical-align: top;\n",
       "    }\n",
       "\n",
       "    .dataframe thead th {\n",
       "        text-align: right;\n",
       "    }\n",
       "</style>\n",
       "<table border=\"1\" class=\"dataframe\">\n",
       "  <thead>\n",
       "    <tr style=\"text-align: right;\">\n",
       "      <th></th>\n",
       "      <th>Source</th>\n",
       "      <th>Phase</th>\n",
       "      <th>Correct</th>\n",
       "    </tr>\n",
       "  </thead>\n",
       "  <tbody>\n",
       "    <tr>\n",
       "      <th>0</th>\n",
       "      <td>Human</td>\n",
       "      <td>gray</td>\n",
       "      <td>0.878205</td>\n",
       "    </tr>\n",
       "    <tr>\n",
       "      <th>1</th>\n",
       "      <td>Human</td>\n",
       "      <td>post</td>\n",
       "      <td>0.717949</td>\n",
       "    </tr>\n",
       "    <tr>\n",
       "      <th>2</th>\n",
       "      <td>Human</td>\n",
       "      <td>pre</td>\n",
       "      <td>0.307692</td>\n",
       "    </tr>\n",
       "    <tr>\n",
       "      <th>3</th>\n",
       "      <td>Model</td>\n",
       "      <td>gray</td>\n",
       "      <td>0.929487</td>\n",
       "    </tr>\n",
       "    <tr>\n",
       "      <th>4</th>\n",
       "      <td>Model</td>\n",
       "      <td>post</td>\n",
       "      <td>0.655449</td>\n",
       "    </tr>\n",
       "    <tr>\n",
       "      <th>5</th>\n",
       "      <td>Model</td>\n",
       "      <td>pre</td>\n",
       "      <td>0.342949</td>\n",
       "    </tr>\n",
       "  </tbody>\n",
       "</table>\n",
       "</div>"
      ],
      "text/plain": [
       "  Source Phase   Correct\n",
       "0  Human  gray  0.878205\n",
       "1  Human  post  0.717949\n",
       "2  Human   pre  0.307692\n",
       "3  Model  gray  0.929487\n",
       "4  Model  post  0.655449\n",
       "5  Model   pre  0.342949"
      ]
     },
     "execution_count": 31,
     "metadata": {},
     "output_type": "execute_result"
    }
   ],
   "source": [
    "agg_df.groupby([\"Source\", \"Phase\"]).agg({\"Correct\": \"median\"}).reset_index()"
   ]
  },
  {
   "cell_type": "markdown",
   "metadata": {},
   "source": [
    "## Behavioral similarity matrix"
   ]
  },
  {
   "cell_type": "code",
   "execution_count": 32,
   "metadata": {},
   "outputs": [],
   "source": [
    "import matplotlib.pyplot as plt\n",
    "import numpy as np\n",
    "\n",
    "import matplotlib\n",
    "import matplotlib as mpl\n",
    "\n",
    "\n",
    "def get_performance_similarity(df, measure, min_value=-1, shuffle=False):\n",
    "    curr_df = df.copy()\n",
    "\n",
    "    # This only has effect on the models\n",
    "    curr_df = (\n",
    "        curr_df.groupby([\"Subject\", \"Source\", \"Image index\", \"Phase\"])\n",
    "        .mean(numeric_only=True)\n",
    "        .reset_index()\n",
    "    )\n",
    "\n",
    "    # Binarize\n",
    "    curr_df = curr_df.assign(Correct=curr_df[\"Correct\"] > 0.5)\n",
    "    curr_df[\"Subject-Source\"] = curr_df[\"Source\"] + \"-\" + curr_df[\"Subject\"].astype(str)\n",
    "\n",
    "    container = {\"src\": [], \"dest\": [], \"type\": [], \"similarity\": []}\n",
    "\n",
    "    for src, dest in product(curr_df[\"Subject-Source\"].unique(), repeat=2):\n",
    "        src_df = curr_df[curr_df[\"Subject-Source\"] == src]\n",
    "        dest_df = curr_df[curr_df[\"Subject-Source\"] == dest]\n",
    "\n",
    "        # Order by image index\n",
    "        src_df = src_df.sort_values(by=\"Image index\")\n",
    "        dest_df = dest_df.sort_values(by=\"Image index\")\n",
    "\n",
    "        types = []\n",
    "\n",
    "        # What type of interaction is this?\n",
    "        if \"model\" in src.lower():\n",
    "            types.append(\"model\")\n",
    "        else:\n",
    "            types.append(\"human\")\n",
    "\n",
    "        if \"model\" in dest.lower():\n",
    "            types.append(\"model\")\n",
    "        else:\n",
    "            types.append(\"human\")\n",
    "\n",
    "        container[\"type\"].append(\"->\".join(types))\n",
    "\n",
    "        # Append to container\n",
    "        container[\"src\"].append(src)\n",
    "        container[\"dest\"].append(dest)\n",
    "\n",
    "        filtered_src_df = src_df.sort_values(by=[\"Image index\", \"Phase\"])\n",
    "        if shuffle:\n",
    "            filtered_dest_df = dest_df.sample(frac=1).reset_index(drop=True)\n",
    "        else:\n",
    "            filtered_dest_df = dest_df.sort_values(by=[\"Image index\", \"Phase\"])\n",
    "\n",
    "        src_corrects = filtered_src_df[\"Correct\"].values\n",
    "        dest_corrects = filtered_dest_df[\"Correct\"].values\n",
    "\n",
    "        container[\"similarity\"].append(measure(src_corrects, dest_corrects))\n",
    "\n",
    "    # Create a dataframe\n",
    "    return pd.DataFrame(container)\n",
    "\n",
    "\n",
    "def plot_performance_comparison(df, measure, min_value=-1, shuffle=False):\n",
    "    df = get_performance_similarity(df, measure, min_value, shuffle)\n",
    "\n",
    "    # Get the matrix\n",
    "    pivoted = pd.pivot_table(\n",
    "        df, index=\"src\", columns=\"dest\", values=\"similarity\", aggfunc=np.median\n",
    "    )\n",
    "\n",
    "    # Draw the heatmap\n",
    "    fig, ax = plt.subplots(figsize=(6, 6))\n",
    "    sns.heatmap(\n",
    "        pivoted,\n",
    "        linewidth=1,\n",
    "        linecolor=\"w\",\n",
    "        square=True,\n",
    "        ax=ax,\n",
    "        cmap=\"coolwarm\",\n",
    "        vmin=min_value,\n",
    "        vmax=1,\n",
    "    )\n",
    "\n",
    "    # Turn off x, y label\n",
    "    plt.xlabel(\"\")\n",
    "    plt.ylabel(\"\")\n",
    "\n",
    "    ax.set_title(f\"Similarity of decision making\")\n",
    "    fig.tight_layout()\n",
    "    plt.show()\n",
    "\n",
    "    return pivoted, df"
   ]
  },
  {
   "cell_type": "code",
   "execution_count": 33,
   "metadata": {},
   "outputs": [],
   "source": [
    "from scipy.stats import wilcoxon, pearsonr, mannwhitneyu"
   ]
  },
  {
   "cell_type": "code",
   "execution_count": 34,
   "metadata": {},
   "outputs": [
    {
     "data": {
      "image/png": "[encoded data removed]",
      "text/plain": [
       "<Figure size 600x600 with 2 Axes>"
      ]
     },
     "metadata": {},
     "output_type": "display_data"
    }
   ],
   "source": [
    "_, sim_df = plot_performance_comparison(df, measure=lambda x,y: pearsonr(x,y)[0], min_value=-1)\n",
    "human_df = sim_df[sim_df[\"type\"] == \"human->human\"]\n",
    "human_df = human_df[human_df[\"src\"].str.split(\"-\").str[1] < human_df[\"dest\"].str.split(\"-\").str[1]]\n",
    "human_similarities = human_df[\"similarity\"].values\n",
    "\n",
    "model_human_df = sim_df[sim_df[\"type\"] == \"human->model\"]\n",
    "model_human_similarities = model_human_df[\"similarity\"].values\n",
    "\n",
    "model_df = sim_df[sim_df[\"type\"] == \"model->model\"]\n",
    "model_df = model_df[model_df[\"src\"].str.split(\"-\").str[1] < model_df[\"dest\"].str.split(\"-\").str[1]]\n",
    "model_similarities = model_df[\"similarity\"].values"
   ]
  },
  {
   "cell_type": "markdown",
   "metadata": {},
   "source": [
    "Similarity between human and models is not as high as humans, but still significantly above 0. Within models, similarity is much higher."
   ]
  },
  {
   "cell_type": "code",
   "execution_count": 35,
   "metadata": {},
   "outputs": [
    {
     "data": {
      "text/plain": [
       "66"
      ]
     },
     "execution_count": 35,
     "metadata": {},
     "output_type": "execute_result"
    }
   ],
   "source": [
    "len(human_similarities)"
   ]
  },
  {
   "cell_type": "code",
   "execution_count": 36,
   "metadata": {},
   "outputs": [
    {
     "data": {
      "text/plain": [
       "144"
      ]
     },
     "execution_count": 36,
     "metadata": {},
     "output_type": "execute_result"
    }
   ],
   "source": [
    "len(model_human_similarities)"
   ]
  },
  {
   "cell_type": "code",
   "execution_count": 37,
   "metadata": {},
   "outputs": [
    {
     "data": {
      "text/plain": [
       "0.28897328507682873"
      ]
     },
     "execution_count": 37,
     "metadata": {},
     "output_type": "execute_result"
    }
   ],
   "source": [
    "np.median(model_human_similarities)"
   ]
  },
  {
   "cell_type": "code",
   "execution_count": 38,
   "metadata": {},
   "outputs": [
    {
     "data": {
      "text/plain": [
       "(1.112927682528275e-25, 8.20474233813614e-13, 8.203678617022344e-13)"
      ]
     },
     "execution_count": 38,
     "metadata": {},
     "output_type": "execute_result"
    }
   ],
   "source": [
    "wilcoxon(model_human_similarities, alternative=\"greater\")[1], wilcoxon(human_similarities, alternative=\"greater\")[1], wilcoxon(model_similarities, alternative=\"greater\")[1]"
   ]
  },
  {
   "cell_type": "code",
   "execution_count": 39,
   "metadata": {},
   "outputs": [
    {
     "data": {
      "text/plain": [
       "(0.7891974961223138, 0.4088308810515854, 0.28897328507682873)"
      ]
     },
     "execution_count": 39,
     "metadata": {},
     "output_type": "execute_result"
    }
   ],
   "source": [
    "np.median(model_similarities), np.median(human_similarities), np.median(model_human_similarities)"
   ]
  },
  {
   "cell_type": "code",
   "execution_count": 40,
   "metadata": {},
   "outputs": [
    {
     "data": {
      "text/plain": [
       "(0.7847082138085975, 0.4102395750584149, 0.2892091242053731)"
      ]
     },
     "execution_count": 40,
     "metadata": {},
     "output_type": "execute_result"
    }
   ],
   "source": [
    "model_similarities.mean(), human_similarities.mean(), model_human_similarities.mean()"
   ]
  },
  {
   "cell_type": "code",
   "execution_count": 41,
   "metadata": {},
   "outputs": [
    {
     "data": {
      "text/plain": [
       "(array([0.71897814, 0.84214993]),\n",
       " array([0.28541688, 0.53299174]),\n",
       " array([0.19145832, 0.39773264]))"
      ]
     },
     "execution_count": 41,
     "metadata": {},
     "output_type": "execute_result"
    }
   ],
   "source": [
    "np.percentile(model_similarities, [2.5, 97.5]), np.percentile(human_similarities, [2.5, 97.5]), np.percentile(model_human_similarities, [2.5, 97.5])"
   ]
  },
  {
   "cell_type": "code",
   "execution_count": 42,
   "metadata": {},
   "outputs": [
    {
     "data": {
      "text/plain": [
       "(3.761353089356019e-23, 2.929057696208218e-22)"
      ]
     },
     "execution_count": 42,
     "metadata": {},
     "output_type": "execute_result"
    }
   ],
   "source": [
    "mannwhitneyu(model_similarities, human_similarities)[1], mannwhitneyu(model_human_similarities, human_similarities)[1]"
   ]
  },
  {
   "cell_type": "code",
   "execution_count": 43,
   "metadata": {},
   "outputs": [
    {
     "data": {
      "image/png": "[encoded data removed]",
      "text/plain": [
       "<Figure size 640x480 with 1 Axes>"
      ]
     },
     "metadata": {},
     "output_type": "display_data"
    }
   ],
   "source": [
    "values = np.array(\n",
    "    [\n",
    "        model_similarities.mean(),\n",
    "        human_similarities.mean(),\n",
    "        model_human_similarities.mean(),\n",
    "    ]\n",
    ")\n",
    "errors = np.array(\n",
    "    [\n",
    "        np.percentile(model_similarities, [2.5, 97.5]),\n",
    "        np.percentile(human_similarities, [2.5, 97.5]),\n",
    "        np.percentile(model_human_similarities, [2.5, 97.5]),\n",
    "    ]\n",
    ").T\n",
    "errors = abs(errors - np.expand_dims(values, 0))\n",
    "\n",
    "plt.bar(\n",
    "    x=[\"Model\", \"Human\", \"Model->Human\"],\n",
    "    height=values,\n",
    "    yerr=errors,\n",
    ")\n",
    "plt.tight_layout()\n",
    "\n",
    "# Annotate each bar with significance level\n",
    "plt.annotate(\"***\", xy=(0 + 0.2, values[0] + 0.02), ha=\"center\", fontsize=18)\n",
    "plt.annotate(\"***\", xy=(1 + 0.2, values[1] + 0.02), ha=\"center\", fontsize=18)\n",
    "plt.annotate(\"***\", xy=(2 + 0.2, values[2] + 0.02), ha=\"center\", fontsize=18)\n",
    "\n",
    "# Remove top and right spines\n",
    "plt.gca().spines[[\"top\", \"right\"]].set_visible(False)\n",
    "plt.annotate(\"*\", xy=(\"Model\", 0.9))\n",
    "plt.show()"
   ]
  },
  {
   "cell_type": "markdown",
   "metadata": {},
   "source": [
    "## Find noise ceiling"
   ]
  },
  {
   "cell_type": "code",
   "execution_count": 44,
   "metadata": {},
   "outputs": [],
   "source": [
    "human_df = df[df[\"Source\"] == \"Human\"]"
   ]
  },
  {
   "cell_type": "code",
   "execution_count": 45,
   "metadata": {},
   "outputs": [
    {
     "data": {
      "text/plain": [
       "0.6049935876164747"
      ]
     },
     "execution_count": 45,
     "metadata": {},
     "output_type": "execute_result"
    }
   ],
   "source": [
    "lower_nc = 0\n",
    "\n",
    "for chosen_subject in human_df[\"Subject\"].unique():\n",
    "    subject_df = human_df[human_df[\"Subject\"] == chosen_subject]\n",
    "    other_df = human_df[human_df[\"Subject\"] != chosen_subject]\n",
    "\n",
    "    subject_df = subject_df.sort_values(by=[\"Image index\", \"Phase\"])\n",
    "    other_df = (\n",
    "        other_df.groupby([\"Image index\", \"Phase\"])\n",
    "        .agg({\"Correct\": \"mean\"})\n",
    "        .reset_index()\n",
    "    )\n",
    "\n",
    "    subject_corrects = subject_df[\"Correct\"].values\n",
    "    other_corrects = other_df[\"Correct\"].values\n",
    "\n",
    "    lower_nc += np.arctanh(pearsonr(subject_corrects, other_corrects)[0])\n",
    "\n",
    "lower_nc = np.tanh(lower_nc / len(human_df[\"Subject\"].unique()))\n",
    "lower_nc"
   ]
  },
  {
   "cell_type": "code",
   "execution_count": 46,
   "metadata": {},
   "outputs": [
    {
     "data": {
      "text/plain": [
       "0.679914114766134"
      ]
     },
     "execution_count": 46,
     "metadata": {},
     "output_type": "execute_result"
    }
   ],
   "source": [
    "upper_nc = 0\n",
    "\n",
    "full_df = (\n",
    "    human_df.sort_values(by=[\"Image index\", \"Phase\"])\n",
    "    .groupby([\"Image index\", \"Phase\"])\n",
    "    .agg({\"Correct\": \"mean\"})\n",
    "    .reset_index()\n",
    ")\n",
    "full_corrects = full_df[\"Correct\"].values\n",
    "\n",
    "for chosen_subject in human_df[\"Subject\"].unique():\n",
    "    subject_df = human_df[human_df[\"Subject\"] == chosen_subject]\n",
    "    subject_df = subject_df.sort_values(by=[\"Image index\", \"Phase\"])\n",
    "\n",
    "    subject_corrects = subject_df[\"Correct\"].values\n",
    "    upper_nc += np.arctanh(pearsonr(subject_corrects, full_corrects)[0])\n",
    "\n",
    "upper_nc = np.tanh(upper_nc / len(human_df[\"Subject\"].unique()))\n",
    "upper_nc"
   ]
  },
  {
   "cell_type": "markdown",
   "metadata": {},
   "source": [
    "## Plot similarity to human"
   ]
  },
  {
   "cell_type": "code",
   "execution_count": 47,
   "metadata": {},
   "outputs": [
    {
     "data": {
      "text/html": [
       "<div>\n",
       "<style scoped>\n",
       "    .dataframe tbody tr th:only-of-type {\n",
       "        vertical-align: middle;\n",
       "    }\n",
       "\n",
       "    .dataframe tbody tr th {\n",
       "        vertical-align: top;\n",
       "    }\n",
       "\n",
       "    .dataframe thead th {\n",
       "        text-align: right;\n",
       "    }\n",
       "</style>\n",
       "<table border=\"1\" class=\"dataframe\">\n",
       "  <thead>\n",
       "    <tr style=\"text-align: right;\">\n",
       "      <th></th>\n",
       "      <th>src</th>\n",
       "      <th>dest</th>\n",
       "      <th>type</th>\n",
       "      <th>similarity</th>\n",
       "    </tr>\n",
       "  </thead>\n",
       "  <tbody>\n",
       "    <tr>\n",
       "      <th>1</th>\n",
       "      <td>Human-0</td>\n",
       "      <td>Model-0</td>\n",
       "      <td>human-&gt;model</td>\n",
       "      <td>0.376259</td>\n",
       "    </tr>\n",
       "    <tr>\n",
       "      <th>3</th>\n",
       "      <td>Human-0</td>\n",
       "      <td>Model-1</td>\n",
       "      <td>human-&gt;model</td>\n",
       "      <td>0.402695</td>\n",
       "    </tr>\n",
       "    <tr>\n",
       "      <th>5</th>\n",
       "      <td>Human-0</td>\n",
       "      <td>Model-2</td>\n",
       "      <td>human-&gt;model</td>\n",
       "      <td>0.291382</td>\n",
       "    </tr>\n",
       "    <tr>\n",
       "      <th>7</th>\n",
       "      <td>Human-0</td>\n",
       "      <td>Model-3</td>\n",
       "      <td>human-&gt;model</td>\n",
       "      <td>0.334285</td>\n",
       "    </tr>\n",
       "    <tr>\n",
       "      <th>9</th>\n",
       "      <td>Human-0</td>\n",
       "      <td>Model-4</td>\n",
       "      <td>human-&gt;model</td>\n",
       "      <td>0.386032</td>\n",
       "    </tr>\n",
       "    <tr>\n",
       "      <th>...</th>\n",
       "      <td>...</td>\n",
       "      <td>...</td>\n",
       "      <td>...</td>\n",
       "      <td>...</td>\n",
       "    </tr>\n",
       "    <tr>\n",
       "      <th>543</th>\n",
       "      <td>Human-11</td>\n",
       "      <td>Model-7</td>\n",
       "      <td>human-&gt;model</td>\n",
       "      <td>0.351494</td>\n",
       "    </tr>\n",
       "    <tr>\n",
       "      <th>545</th>\n",
       "      <td>Human-11</td>\n",
       "      <td>Model-8</td>\n",
       "      <td>human-&gt;model</td>\n",
       "      <td>0.291859</td>\n",
       "    </tr>\n",
       "    <tr>\n",
       "      <th>547</th>\n",
       "      <td>Human-11</td>\n",
       "      <td>Model-9</td>\n",
       "      <td>human-&gt;model</td>\n",
       "      <td>0.379899</td>\n",
       "    </tr>\n",
       "    <tr>\n",
       "      <th>549</th>\n",
       "      <td>Human-11</td>\n",
       "      <td>Model-10</td>\n",
       "      <td>human-&gt;model</td>\n",
       "      <td>0.333587</td>\n",
       "    </tr>\n",
       "    <tr>\n",
       "      <th>551</th>\n",
       "      <td>Human-11</td>\n",
       "      <td>Model-11</td>\n",
       "      <td>human-&gt;model</td>\n",
       "      <td>0.370239</td>\n",
       "    </tr>\n",
       "  </tbody>\n",
       "</table>\n",
       "<p>144 rows × 4 columns</p>\n",
       "</div>"
      ],
      "text/plain": [
       "          src      dest          type  similarity\n",
       "1     Human-0   Model-0  human->model    0.376259\n",
       "3     Human-0   Model-1  human->model    0.402695\n",
       "5     Human-0   Model-2  human->model    0.291382\n",
       "7     Human-0   Model-3  human->model    0.334285\n",
       "9     Human-0   Model-4  human->model    0.386032\n",
       "..        ...       ...           ...         ...\n",
       "543  Human-11   Model-7  human->model    0.351494\n",
       "545  Human-11   Model-8  human->model    0.291859\n",
       "547  Human-11   Model-9  human->model    0.379899\n",
       "549  Human-11  Model-10  human->model    0.333587\n",
       "551  Human-11  Model-11  human->model    0.370239\n",
       "\n",
       "[144 rows x 4 columns]"
      ]
     },
     "execution_count": 47,
     "metadata": {},
     "output_type": "execute_result"
    }
   ],
   "source": [
    "model_human_df = sim_df[sim_df[\"type\"] == \"human->model\"]\n",
    "model_human_df"
   ]
  },
  {
   "cell_type": "code",
   "execution_count": 48,
   "metadata": {},
   "outputs": [
    {
     "name": "stderr",
     "output_type": "stream",
     "text": [
      "/var/folders/js/6gw33t_51rqcvbmgmlr5ybtw0000gn/T/ipykernel_87350/258729786.py:2: SettingWithCopyWarning: \n",
      "A value is trying to be set on a copy of a slice from a DataFrame.\n",
      "Try using .loc[row_indexer,col_indexer] = value instead\n",
      "\n",
      "See the caveats in the documentation: https://pandas.pydata.org/pandas-docs/stable/user_guide/indexing.html#returning-a-view-versus-a-copy\n",
      "  model_human_df[\"Subject\"] = model_human_df[\"src\"].str.split(\"-\").str[1]\n",
      "/var/folders/js/6gw33t_51rqcvbmgmlr5ybtw0000gn/T/ipykernel_87350/258729786.py:3: SettingWithCopyWarning: \n",
      "A value is trying to be set on a copy of a slice from a DataFrame.\n",
      "Try using .loc[row_indexer,col_indexer] = value instead\n",
      "\n",
      "See the caveats in the documentation: https://pandas.pydata.org/pandas-docs/stable/user_guide/indexing.html#returning-a-view-versus-a-copy\n",
      "  model_human_df[\"Model\"] = model_human_df[\"dest\"].str.split(\"-\").str[1]\n"
     ]
    },
    {
     "data": {
      "text/html": [
       "<div>\n",
       "<style scoped>\n",
       "    .dataframe tbody tr th:only-of-type {\n",
       "        vertical-align: middle;\n",
       "    }\n",
       "\n",
       "    .dataframe tbody tr th {\n",
       "        vertical-align: top;\n",
       "    }\n",
       "\n",
       "    .dataframe thead th {\n",
       "        text-align: right;\n",
       "    }\n",
       "</style>\n",
       "<table border=\"1\" class=\"dataframe\">\n",
       "  <thead>\n",
       "    <tr style=\"text-align: right;\">\n",
       "      <th></th>\n",
       "      <th>src</th>\n",
       "      <th>dest</th>\n",
       "      <th>type</th>\n",
       "      <th>similarity</th>\n",
       "      <th>Subject</th>\n",
       "      <th>Model</th>\n",
       "    </tr>\n",
       "  </thead>\n",
       "  <tbody>\n",
       "    <tr>\n",
       "      <th>1</th>\n",
       "      <td>Human-0</td>\n",
       "      <td>Model-0</td>\n",
       "      <td>human-&gt;model</td>\n",
       "      <td>0.376259</td>\n",
       "      <td>0</td>\n",
       "      <td>0</td>\n",
       "    </tr>\n",
       "    <tr>\n",
       "      <th>51</th>\n",
       "      <td>Human-1</td>\n",
       "      <td>Model-1</td>\n",
       "      <td>human-&gt;model</td>\n",
       "      <td>0.303625</td>\n",
       "      <td>1</td>\n",
       "      <td>1</td>\n",
       "    </tr>\n",
       "    <tr>\n",
       "      <th>101</th>\n",
       "      <td>Human-2</td>\n",
       "      <td>Model-2</td>\n",
       "      <td>human-&gt;model</td>\n",
       "      <td>0.228241</td>\n",
       "      <td>2</td>\n",
       "      <td>2</td>\n",
       "    </tr>\n",
       "    <tr>\n",
       "      <th>151</th>\n",
       "      <td>Human-3</td>\n",
       "      <td>Model-3</td>\n",
       "      <td>human-&gt;model</td>\n",
       "      <td>0.170561</td>\n",
       "      <td>3</td>\n",
       "      <td>3</td>\n",
       "    </tr>\n",
       "    <tr>\n",
       "      <th>201</th>\n",
       "      <td>Human-4</td>\n",
       "      <td>Model-4</td>\n",
       "      <td>human-&gt;model</td>\n",
       "      <td>0.398349</td>\n",
       "      <td>4</td>\n",
       "      <td>4</td>\n",
       "    </tr>\n",
       "    <tr>\n",
       "      <th>251</th>\n",
       "      <td>Human-5</td>\n",
       "      <td>Model-5</td>\n",
       "      <td>human-&gt;model</td>\n",
       "      <td>0.308428</td>\n",
       "      <td>5</td>\n",
       "      <td>5</td>\n",
       "    </tr>\n",
       "    <tr>\n",
       "      <th>301</th>\n",
       "      <td>Human-6</td>\n",
       "      <td>Model-6</td>\n",
       "      <td>human-&gt;model</td>\n",
       "      <td>0.300129</td>\n",
       "      <td>6</td>\n",
       "      <td>6</td>\n",
       "    </tr>\n",
       "    <tr>\n",
       "      <th>351</th>\n",
       "      <td>Human-7</td>\n",
       "      <td>Model-7</td>\n",
       "      <td>human-&gt;model</td>\n",
       "      <td>0.276845</td>\n",
       "      <td>7</td>\n",
       "      <td>7</td>\n",
       "    </tr>\n",
       "    <tr>\n",
       "      <th>401</th>\n",
       "      <td>Human-8</td>\n",
       "      <td>Model-8</td>\n",
       "      <td>human-&gt;model</td>\n",
       "      <td>0.276206</td>\n",
       "      <td>8</td>\n",
       "      <td>8</td>\n",
       "    </tr>\n",
       "    <tr>\n",
       "      <th>451</th>\n",
       "      <td>Human-9</td>\n",
       "      <td>Model-9</td>\n",
       "      <td>human-&gt;model</td>\n",
       "      <td>0.245536</td>\n",
       "      <td>9</td>\n",
       "      <td>9</td>\n",
       "    </tr>\n",
       "    <tr>\n",
       "      <th>501</th>\n",
       "      <td>Human-10</td>\n",
       "      <td>Model-10</td>\n",
       "      <td>human-&gt;model</td>\n",
       "      <td>0.298442</td>\n",
       "      <td>10</td>\n",
       "      <td>10</td>\n",
       "    </tr>\n",
       "    <tr>\n",
       "      <th>551</th>\n",
       "      <td>Human-11</td>\n",
       "      <td>Model-11</td>\n",
       "      <td>human-&gt;model</td>\n",
       "      <td>0.370239</td>\n",
       "      <td>11</td>\n",
       "      <td>11</td>\n",
       "    </tr>\n",
       "  </tbody>\n",
       "</table>\n",
       "</div>"
      ],
      "text/plain": [
       "          src      dest          type  similarity Subject Model\n",
       "1     Human-0   Model-0  human->model    0.376259       0     0\n",
       "51    Human-1   Model-1  human->model    0.303625       1     1\n",
       "101   Human-2   Model-2  human->model    0.228241       2     2\n",
       "151   Human-3   Model-3  human->model    0.170561       3     3\n",
       "201   Human-4   Model-4  human->model    0.398349       4     4\n",
       "251   Human-5   Model-5  human->model    0.308428       5     5\n",
       "301   Human-6   Model-6  human->model    0.300129       6     6\n",
       "351   Human-7   Model-7  human->model    0.276845       7     7\n",
       "401   Human-8   Model-8  human->model    0.276206       8     8\n",
       "451   Human-9   Model-9  human->model    0.245536       9     9\n",
       "501  Human-10  Model-10  human->model    0.298442      10    10\n",
       "551  Human-11  Model-11  human->model    0.370239      11    11"
      ]
     },
     "execution_count": 48,
     "metadata": {},
     "output_type": "execute_result"
    }
   ],
   "source": [
    "# Only keep same src and same dest\n",
    "model_human_df[\"Subject\"] = model_human_df[\"src\"].str.split(\"-\").str[1]\n",
    "model_human_df[\"Model\"] = model_human_df[\"dest\"].str.split(\"-\").str[1]\n",
    "model_human_df = model_human_df[model_human_df[\"Subject\"] == model_human_df[\"Model\"]]\n",
    "model_human_df"
   ]
  },
  {
   "cell_type": "code",
   "execution_count": 49,
   "metadata": {},
   "outputs": [
    {
     "name": "stderr",
     "output_type": "stream",
     "text": [
      "/var/folders/js/6gw33t_51rqcvbmgmlr5ybtw0000gn/T/ipykernel_87350/2223202770.py:1: SettingWithCopyWarning: \n",
      "A value is trying to be set on a copy of a slice from a DataFrame.\n",
      "Try using .loc[row_indexer,col_indexer] = value instead\n",
      "\n",
      "See the caveats in the documentation: https://pandas.pydata.org/pandas-docs/stable/user_guide/indexing.html#returning-a-view-versus-a-copy\n",
      "  model_human_df[\"Subject\"] = model_human_df[\"Subject\"].astype(int)\n"
     ]
    },
    {
     "data": {
      "image/png": "[encoded data removed]",
      "text/plain": [
       "<Figure size 640x480 with 1 Axes>"
      ]
     },
     "metadata": {},
     "output_type": "display_data"
    }
   ],
   "source": [
    "model_human_df[\"Subject\"] = model_human_df[\"Subject\"].astype(int)\n",
    "model_human_df = model_human_df.sort_values(by=\"Subject\")\n",
    "\n",
    "plt.bar(model_human_df[\"Subject\"], model_human_df[\"similarity\"])\n",
    "\n",
    "# Text annotation for the noise ceiling\n",
    "plt.fill_between(\n",
    "    [-1, 13],\n",
    "    [lower_nc, lower_nc],\n",
    "    [upper_nc, upper_nc],\n",
    "    color=\"b\",\n",
    "    alpha=0.2,\n",
    ")\n",
    "\n",
    "plt.ylim(0, 0.7)\n",
    "plt.xlim(-0.5, 11.5)\n",
    "plt.ylabel(\"Mean task error similarity (Pearson's r)\")\n",
    "plt.xlabel(\"Subject ID\")\n",
    "plt.tight_layout()\n",
    "plt.show()"
   ]
  },
  {
   "cell_type": "code",
   "execution_count": 50,
   "metadata": {},
   "outputs": [
    {
     "data": {
      "text/plain": [
       "(0.14244811855391018, array([0.05512729, 0.23966942]))"
      ]
     },
     "execution_count": 50,
     "metadata": {},
     "output_type": "execute_result"
    }
   ],
   "source": [
    "# Percentage of variance explained by model: 14.24% (95% CI: 5.51%-23.97%)\n",
    "explained_variance_ratio = model_human_df[\"similarity\"].values**2 / ((lower_nc + upper_nc) / 2)\n",
    "explained_variance_ratio.mean(), np.percentile(explained_variance_ratio, [2.5, 97.5])"
   ]
  },
  {
   "cell_type": "markdown",
   "metadata": {},
   "source": [
    "## Image accuracy similarity"
   ]
  },
  {
   "cell_type": "code",
   "execution_count": 51,
   "metadata": {},
   "outputs": [
    {
     "data": {
      "text/plain": [
       "2808"
      ]
     },
     "execution_count": 51,
     "metadata": {},
     "output_type": "execute_result"
    }
   ],
   "source": [
    "human_df = df[df[\"Source\"] == \"Human\"]\n",
    "len(human_df)"
   ]
  },
  {
   "cell_type": "code",
   "execution_count": 52,
   "metadata": {},
   "outputs": [
    {
     "name": "stderr",
     "output_type": "stream",
     "text": [
      "/var/folders/js/6gw33t_51rqcvbmgmlr5ybtw0000gn/T/ipykernel_87350/2842472773.py:2: SettingWithCopyWarning: \n",
      "A value is trying to be set on a copy of a slice from a DataFrame.\n",
      "Try using .loc[row_indexer,col_indexer] = value instead\n",
      "\n",
      "See the caveats in the documentation: https://pandas.pydata.org/pandas-docs/stable/user_guide/indexing.html#returning-a-view-versus-a-copy\n",
      "  model_df[\"Model subject\"] = model_df[\"Detailed source\"].str.split(\"-\").str[1].astype(int)\n",
      "/var/folders/js/6gw33t_51rqcvbmgmlr5ybtw0000gn/T/ipykernel_87350/2842472773.py:3: SettingWithCopyWarning: \n",
      "A value is trying to be set on a copy of a slice from a DataFrame.\n",
      "Try using .loc[row_indexer,col_indexer] = value instead\n",
      "\n",
      "See the caveats in the documentation: https://pandas.pydata.org/pandas-docs/stable/user_guide/indexing.html#returning-a-view-versus-a-copy\n",
      "  model_df[\"Subject\"] = model_df[\"Subject\"].astype(int)\n"
     ]
    },
    {
     "data": {
      "text/html": [
       "<div>\n",
       "<style scoped>\n",
       "    .dataframe tbody tr th:only-of-type {\n",
       "        vertical-align: middle;\n",
       "    }\n",
       "\n",
       "    .dataframe tbody tr th {\n",
       "        vertical-align: top;\n",
       "    }\n",
       "\n",
       "    .dataframe thead th {\n",
       "        text-align: right;\n",
       "    }\n",
       "</style>\n",
       "<table border=\"1\" class=\"dataframe\">\n",
       "  <thead>\n",
       "    <tr style=\"text-align: right;\">\n",
       "      <th></th>\n",
       "      <th>Source</th>\n",
       "      <th>Detailed source</th>\n",
       "      <th>Subject</th>\n",
       "      <th>Image index</th>\n",
       "      <th>Phase</th>\n",
       "      <th>Correct</th>\n",
       "      <th>Model subject</th>\n",
       "    </tr>\n",
       "  </thead>\n",
       "  <tbody>\n",
       "    <tr>\n",
       "      <th>7886</th>\n",
       "      <td>Model</td>\n",
       "      <td>Model-0-0</td>\n",
       "      <td>0</td>\n",
       "      <td>2</td>\n",
       "      <td>pre</td>\n",
       "      <td>0</td>\n",
       "      <td>0</td>\n",
       "    </tr>\n",
       "    <tr>\n",
       "      <th>7887</th>\n",
       "      <td>Model</td>\n",
       "      <td>Model-0-0</td>\n",
       "      <td>0</td>\n",
       "      <td>2</td>\n",
       "      <td>gray</td>\n",
       "      <td>1</td>\n",
       "      <td>0</td>\n",
       "    </tr>\n",
       "    <tr>\n",
       "      <th>7890</th>\n",
       "      <td>Model</td>\n",
       "      <td>Model-0-0</td>\n",
       "      <td>0</td>\n",
       "      <td>3</td>\n",
       "      <td>pre</td>\n",
       "      <td>1</td>\n",
       "      <td>0</td>\n",
       "    </tr>\n",
       "    <tr>\n",
       "      <th>7891</th>\n",
       "      <td>Model</td>\n",
       "      <td>Model-0-0</td>\n",
       "      <td>0</td>\n",
       "      <td>2</td>\n",
       "      <td>post</td>\n",
       "      <td>1</td>\n",
       "      <td>0</td>\n",
       "    </tr>\n",
       "    <tr>\n",
       "      <th>7893</th>\n",
       "      <td>Model</td>\n",
       "      <td>Model-0-0</td>\n",
       "      <td>0</td>\n",
       "      <td>4</td>\n",
       "      <td>pre</td>\n",
       "      <td>0</td>\n",
       "      <td>0</td>\n",
       "    </tr>\n",
       "    <tr>\n",
       "      <th>...</th>\n",
       "      <td>...</td>\n",
       "      <td>...</td>\n",
       "      <td>...</td>\n",
       "      <td>...</td>\n",
       "      <td>...</td>\n",
       "      <td>...</td>\n",
       "      <td>...</td>\n",
       "    </tr>\n",
       "    <tr>\n",
       "      <th>18345</th>\n",
       "      <td>Model</td>\n",
       "      <td>Model-3-3</td>\n",
       "      <td>3</td>\n",
       "      <td>203</td>\n",
       "      <td>gray</td>\n",
       "      <td>1</td>\n",
       "      <td>3</td>\n",
       "    </tr>\n",
       "    <tr>\n",
       "      <th>18349</th>\n",
       "      <td>Model</td>\n",
       "      <td>Model-3-3</td>\n",
       "      <td>3</td>\n",
       "      <td>203</td>\n",
       "      <td>post</td>\n",
       "      <td>0</td>\n",
       "      <td>3</td>\n",
       "    </tr>\n",
       "    <tr>\n",
       "      <th>18353</th>\n",
       "      <td>Model</td>\n",
       "      <td>Model-3-3</td>\n",
       "      <td>3</td>\n",
       "      <td>205</td>\n",
       "      <td>pre</td>\n",
       "      <td>0</td>\n",
       "      <td>3</td>\n",
       "    </tr>\n",
       "    <tr>\n",
       "      <th>18355</th>\n",
       "      <td>Model</td>\n",
       "      <td>Model-3-3</td>\n",
       "      <td>3</td>\n",
       "      <td>205</td>\n",
       "      <td>gray</td>\n",
       "      <td>1</td>\n",
       "      <td>3</td>\n",
       "    </tr>\n",
       "    <tr>\n",
       "      <th>18362</th>\n",
       "      <td>Model</td>\n",
       "      <td>Model-3-3</td>\n",
       "      <td>3</td>\n",
       "      <td>205</td>\n",
       "      <td>post</td>\n",
       "      <td>0</td>\n",
       "      <td>3</td>\n",
       "    </tr>\n",
       "  </tbody>\n",
       "</table>\n",
       "<p>936 rows × 7 columns</p>\n",
       "</div>"
      ],
      "text/plain": [
       "      Source Detailed source  Subject  Image index Phase  Correct  \\\n",
       "7886   Model       Model-0-0        0            2   pre        0   \n",
       "7887   Model       Model-0-0        0            2  gray        1   \n",
       "7890   Model       Model-0-0        0            3   pre        1   \n",
       "7891   Model       Model-0-0        0            2  post        1   \n",
       "7893   Model       Model-0-0        0            4   pre        0   \n",
       "...      ...             ...      ...          ...   ...      ...   \n",
       "18345  Model       Model-3-3        3          203  gray        1   \n",
       "18349  Model       Model-3-3        3          203  post        0   \n",
       "18353  Model       Model-3-3        3          205   pre        0   \n",
       "18355  Model       Model-3-3        3          205  gray        1   \n",
       "18362  Model       Model-3-3        3          205  post        0   \n",
       "\n",
       "       Model subject  \n",
       "7886               0  \n",
       "7887               0  \n",
       "7890               0  \n",
       "7891               0  \n",
       "7893               0  \n",
       "...              ...  \n",
       "18345              3  \n",
       "18349              3  \n",
       "18353              3  \n",
       "18355              3  \n",
       "18362              3  \n",
       "\n",
       "[936 rows x 7 columns]"
      ]
     },
     "execution_count": 52,
     "metadata": {},
     "output_type": "execute_result"
    }
   ],
   "source": [
    "model_df = df[df[\"Source\"] == \"Model\"]\n",
    "model_df[\"Model subject\"] = model_df[\"Detailed source\"].str.split(\"-\").str[1].astype(int)\n",
    "model_df[\"Subject\"] = model_df[\"Subject\"].astype(int)\n",
    "model_df = model_df[model_df[\"Model subject\"] == model_df[\"Subject\"]]\n",
    "model_df"
   ]
  },
  {
   "cell_type": "code",
   "execution_count": 53,
   "metadata": {},
   "outputs": [],
   "source": [
    "human_df_image_accuracy = human_df.groupby([\"Image index\", \"Phase\"]).agg({\"Correct\": \"mean\"}).reset_index().sort_values(by=[\"Image index\", \"Phase\"])\n",
    "model_df_image_accuracy = model_df.groupby([\"Image index\", \"Phase\"]).agg({\"Correct\": \"mean\"}).reset_index().sort_values(by=[\"Image index\", \"Phase\"])"
   ]
  },
  {
   "cell_type": "code",
   "execution_count": 54,
   "metadata": {},
   "outputs": [
    {
     "data": {
      "text/plain": [
       "(0.4491126097506075, 5.133911047829516e-13, 234)"
      ]
     },
     "execution_count": 54,
     "metadata": {},
     "output_type": "execute_result"
    }
   ],
   "source": [
    "r, p = pearsonr(human_df_image_accuracy['Correct'].values, model_df_image_accuracy['Correct'].values)\n",
    "r, p, len(human_df_image_accuracy['Correct'].values)"
   ]
  }
 ],
 "metadata": {
  "kernelspec": {
   "display_name": "nature2023",
   "language": "python",
   "name": "python3"
  },
  "language_info": {
   "codemirror_mode": {
    "name": "ipython",
    "version": 3
   },
   "file_extension": ".py",
   "mimetype": "text/x-python",
   "name": "python",
   "nbconvert_exporter": "python",
   "pygments_lexer": "ipython3",
   "version": "3.11.8"
  }
 },
 "nbformat": 4,
 "nbformat_minor": 2
}
