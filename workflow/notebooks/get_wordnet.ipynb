{
 "cells": [
  {
   "cell_type": "code",
   "execution_count": 1,
   "metadata": {},
   "outputs": [],
   "source": [
    "from nltk.corpus import wordnet as wn"
   ]
  },
  {
   "cell_type": "code",
   "execution_count": 2,
   "metadata": {},
   "outputs": [
    {
     "data": {
      "text/plain": [
       "38"
      ]
     },
     "execution_count": 2,
     "metadata": {},
     "output_type": "execute_result"
    }
   ],
   "source": [
    "# Load the behavior classes and print unique labels\n",
    "labels = \"../../data/behavior_classes.txt\"\n",
    "\n",
    "# Open the text file and read the lines\n",
    "labels = open(labels, \"r\").readlines()\n",
    "labels = set(label.strip() for label in labels)\n",
    "len(labels)"
   ]
  },
  {
   "cell_type": "code",
   "execution_count": 3,
   "metadata": {},
   "outputs": [
    {
     "name": "stdout",
     "output_type": "stream",
     "text": [
      "{'emu or ostrich', 'plane', 'boat', 'ant', 'bonsai', 'anchor', 'elephant', 'palace', 'horse', 'alligator', 'camera', 'cat', 'chair', 'accordion', 'moped', 'ox', 'helicopter', 'beaver', 'fish', 'dolphin', 'person', 'chandelier', 'sheep or goat', 'dog', 'crab', 'teapot', 'butterfly', 'fan', 'guitar', 'cannon', 'barrel', 'dragonfly', 'castle', 'crawfish', 'statue', 'trolley', 'car', 'cougar'}\n"
     ]
    }
   ],
   "source": [
    "print(labels)"
   ]
  },
  {
   "cell_type": "markdown",
   "metadata": {},
   "source": [
    "## Un-ambiguous classes"
   ]
  },
  {
   "cell_type": "code",
   "execution_count": 4,
   "metadata": {},
   "outputs": [],
   "source": [
    "ambiguous = []\n",
    "unambiguous = []\n",
    "for label in sorted(list(labels)):\n",
    "    synset = wn.synsets(label, pos='n')\n",
    "\n",
    "    if len(synset) == 1:\n",
    "        unambiguous.append((synset[0], label))\n",
    "    else:\n",
    "        ambiguous.append((synset, label))"
   ]
  },
  {
   "cell_type": "code",
   "execution_count": 5,
   "metadata": {},
   "outputs": [
    {
     "data": {
      "text/plain": [
       "(26, 12)"
      ]
     },
     "execution_count": 5,
     "metadata": {},
     "output_type": "execute_result"
    }
   ],
   "source": [
    "len(ambiguous), len(unambiguous)"
   ]
  },
  {
   "cell_type": "code",
   "execution_count": 6,
   "metadata": {},
   "outputs": [
    {
     "data": {
      "text/plain": [
       "[([Synset('alligator.n.01'), Synset('alligator.n.02')], 'alligator'),\n",
       " ([Synset('anchor.n.01'), Synset('anchor.n.02'), Synset('anchor.n.03')],\n",
       "  'anchor'),\n",
       " ([Synset('barrel.n.01'),\n",
       "   Synset('barrel.n.02'),\n",
       "   Synset('barrel.n.03'),\n",
       "   Synset('barrel.n.04'),\n",
       "   Synset('barrel.n.05')],\n",
       "  'barrel'),\n",
       " ([Synset('beaver.n.01'),\n",
       "   Synset('oregonian.n.01'),\n",
       "   Synset('beaver.n.03'),\n",
       "   Synset('dress_hat.n.01'),\n",
       "   Synset('beaver.n.05'),\n",
       "   Synset('beaver.n.06'),\n",
       "   Synset('beaver.n.07')],\n",
       "  'beaver'),\n",
       " ([Synset('boat.n.01'), Synset('gravy_boat.n.01')], 'boat'),\n",
       " ([Synset('butterfly.n.01'), Synset('butterfly.n.02')], 'butterfly'),\n",
       " ([Synset('camera.n.01'), Synset('television_camera.n.01')], 'camera'),\n",
       " ([Synset('cannon.n.01'),\n",
       "   Synset('cannon.n.02'),\n",
       "   Synset('cannon.n.03'),\n",
       "   Synset('cannon.n.04'),\n",
       "   Synset('cannon.n.05'),\n",
       "   Synset('carom.n.02')],\n",
       "  'cannon'),\n",
       " ([Synset('car.n.01'),\n",
       "   Synset('car.n.02'),\n",
       "   Synset('car.n.03'),\n",
       "   Synset('car.n.04'),\n",
       "   Synset('cable_car.n.01')],\n",
       "  'car'),\n",
       " ([Synset('palace.n.01'),\n",
       "   Synset('castle.n.02'),\n",
       "   Synset('castle.n.03'),\n",
       "   Synset('castle.n.04')],\n",
       "  'castle'),\n",
       " ([Synset('cat.n.01'),\n",
       "   Synset('guy.n.01'),\n",
       "   Synset('cat.n.03'),\n",
       "   Synset('kat.n.01'),\n",
       "   Synset('cat-o'-nine-tails.n.01'),\n",
       "   Synset('caterpillar.n.02'),\n",
       "   Synset('big_cat.n.01'),\n",
       "   Synset('computerized_tomography.n.01')],\n",
       "  'cat'),\n",
       " ([Synset('chair.n.01'),\n",
       "   Synset('professorship.n.01'),\n",
       "   Synset('president.n.04'),\n",
       "   Synset('electric_chair.n.01'),\n",
       "   Synset('chair.n.05')],\n",
       "  'chair'),\n",
       " ([Synset('crab.n.01'),\n",
       "   Synset('crab.n.02'),\n",
       "   Synset('cancer.n.02'),\n",
       "   Synset('cancer.n.04'),\n",
       "   Synset('crab.n.05'),\n",
       "   Synset('crab_louse.n.01'),\n",
       "   Synset('crab.n.07')],\n",
       "  'crab'),\n",
       " ([Synset('crayfish.n.02'),\n",
       "   Synset('crayfish.n.03'),\n",
       "   Synset('spiny_lobster.n.02')],\n",
       "  'crawfish'),\n",
       " ([Synset('dog.n.01'),\n",
       "   Synset('frump.n.01'),\n",
       "   Synset('dog.n.03'),\n",
       "   Synset('cad.n.01'),\n",
       "   Synset('frank.n.02'),\n",
       "   Synset('pawl.n.01'),\n",
       "   Synset('andiron.n.01')],\n",
       "  'dog'),\n",
       " ([Synset('dolphinfish.n.02'), Synset('dolphin.n.02')], 'dolphin'),\n",
       " ([Synset('elephant.n.01'), Synset('elephant.n.02')], 'elephant'),\n",
       " ([], 'emu or ostrich'),\n",
       " ([Synset('fan.n.01'), Synset('sports_fan.n.01'), Synset('fan.n.03')], 'fan'),\n",
       " ([Synset('fish.n.01'),\n",
       "   Synset('fish.n.02'),\n",
       "   Synset('pisces.n.02'),\n",
       "   Synset('pisces.n.01')],\n",
       "  'fish'),\n",
       " ([Synset('horse.n.01'),\n",
       "   Synset('horse.n.02'),\n",
       "   Synset('cavalry.n.01'),\n",
       "   Synset('sawhorse.n.01'),\n",
       "   Synset('knight.n.02')],\n",
       "  'horse'),\n",
       " ([Synset('ox.n.01'), Synset('ox.n.02')], 'ox'),\n",
       " ([Synset('palace.n.01'),\n",
       "   Synset('palace.n.02'),\n",
       "   Synset('palace.n.03'),\n",
       "   Synset('palace.n.04')],\n",
       "  'palace'),\n",
       " ([Synset('person.n.01'), Synset('person.n.02'), Synset('person.n.03')],\n",
       "  'person'),\n",
       " ([Synset('airplane.n.01'),\n",
       "   Synset('plane.n.02'),\n",
       "   Synset('plane.n.03'),\n",
       "   Synset('plane.n.04'),\n",
       "   Synset('plane.n.05')],\n",
       "  'plane'),\n",
       " ([], 'sheep or goat')]"
      ]
     },
     "execution_count": 6,
     "metadata": {},
     "output_type": "execute_result"
    }
   ],
   "source": [
    "ambiguous"
   ]
  },
  {
   "cell_type": "markdown",
   "metadata": {},
   "source": [
    "## Alligator"
   ]
  },
  {
   "cell_type": "code",
   "execution_count": 7,
   "metadata": {},
   "outputs": [
    {
     "data": {
      "text/plain": [
       "[\"leather made from alligator's hide\",\n",
       " 'either of two amphibious reptiles related to crocodiles but with shorter broader snouts',\n",
       " 'crack and acquire the appearance of alligator hide, as from weathering or improper application; of paint and varnishes']"
      ]
     },
     "execution_count": 7,
     "metadata": {},
     "output_type": "execute_result"
    }
   ],
   "source": [
    "# Aligator is not recognized\n",
    "guess = \"alligator\"\n",
    "[d.definition() for d in wn.synsets(guess)]"
   ]
  },
  {
   "cell_type": "code",
   "execution_count": 8,
   "metadata": {},
   "outputs": [
    {
     "data": {
      "text/plain": [
       "['large voracious aquatic reptile having a long snout with massive jaws and sharp teeth and a body covered with bony plates; of sluggish tropical waters']"
      ]
     },
     "execution_count": 8,
     "metadata": {},
     "output_type": "execute_result"
    }
   ],
   "source": [
    "guess = \"crocodile\"\n",
    "[d.definition() for d in wn.synsets(guess)]"
   ]
  },
  {
   "cell_type": "code",
   "execution_count": 9,
   "metadata": {},
   "outputs": [],
   "source": [
    "hypernym1 = wn.synsets(\"alligator\")[1].hypernyms()\n",
    "hypernym2 = wn.synsets(\"crocodile\")[0].hypernyms()\n",
    "ok = list(set(hypernym1).intersection(set(hypernym2)))[0]\n",
    "unambiguous.append((ok, \"alligator\"))"
   ]
  },
  {
   "cell_type": "code",
   "execution_count": 10,
   "metadata": {},
   "outputs": [],
   "source": [
    "ambiguous = [a for a in ambiguous if a[1] != \"alligator\"]"
   ]
  },
  {
   "cell_type": "markdown",
   "metadata": {},
   "source": [
    "## Anchor"
   ]
  },
  {
   "cell_type": "code",
   "execution_count": 11,
   "metadata": {},
   "outputs": [
    {
     "data": {
      "text/plain": [
       "['a mechanical device that prevents a vessel from moving',\n",
       " 'a central cohesive source of support and stability',\n",
       " 'a television reporter who coordinates a broadcast to which several correspondents contribute',\n",
       " 'fix firmly and stably',\n",
       " 'secure a vessel with an anchor']"
      ]
     },
     "execution_count": 11,
     "metadata": {},
     "output_type": "execute_result"
    }
   ],
   "source": [
    "word = wn.synsets(\"anchor\")\n",
    "[d.definition() for d in word]"
   ]
  },
  {
   "cell_type": "code",
   "execution_count": 12,
   "metadata": {},
   "outputs": [],
   "source": [
    "unambiguous.append((word[0], \"anchor\"))"
   ]
  },
  {
   "cell_type": "code",
   "execution_count": 13,
   "metadata": {},
   "outputs": [],
   "source": [
    "ambiguous = [a for a in ambiguous if a[1] != \"anchor\"]"
   ]
  },
  {
   "cell_type": "markdown",
   "metadata": {},
   "source": [
    "## Barrel"
   ]
  },
  {
   "cell_type": "code",
   "execution_count": 14,
   "metadata": {},
   "outputs": [
    {
     "data": {
      "text/plain": [
       "['a tube through which a bullet travels when a gun is fired',\n",
       " 'a cylindrical container that holds liquids',\n",
       " 'a bulging cylindrical shape; hollow with flat ends',\n",
       " 'the quantity that a barrel (of any size) will hold',\n",
       " 'any of various units of capacity',\n",
       " 'put in barrels']"
      ]
     },
     "execution_count": 14,
     "metadata": {},
     "output_type": "execute_result"
    }
   ],
   "source": [
    "word = wn.synsets(\"barrel\")\n",
    "[d.definition() for d in word]"
   ]
  },
  {
   "cell_type": "code",
   "execution_count": 15,
   "metadata": {},
   "outputs": [],
   "source": [
    "unambiguous.append((word[0], \"barrel\"))"
   ]
  },
  {
   "cell_type": "code",
   "execution_count": 16,
   "metadata": {},
   "outputs": [],
   "source": [
    "ambiguous = [a for a in ambiguous if a[1] != \"barrel\"]"
   ]
  },
  {
   "cell_type": "markdown",
   "metadata": {},
   "source": [
    "## Beaver"
   ]
  },
  {
   "cell_type": "code",
   "execution_count": 17,
   "metadata": {},
   "outputs": [
    {
     "data": {
      "text/plain": [
       "['the soft brown fur of the beaver',\n",
       " 'a native or resident of Oregon',\n",
       " 'a full beard',\n",
       " \"a man's hat with a tall crown; usually covered with silk or with beaver fur\",\n",
       " 'a movable piece of armor on a medieval helmet used to protect the lower face',\n",
       " 'a hat made with the fur of a beaver (or similar material)',\n",
       " 'large semiaquatic rodent with webbed hind feet and a broad flat tail; construct complex dams and underwater lodges',\n",
       " 'work hard on something']"
      ]
     },
     "execution_count": 17,
     "metadata": {},
     "output_type": "execute_result"
    }
   ],
   "source": [
    "word = wn.synsets(\"beaver\")\n",
    "[d.definition() for d in word]"
   ]
  },
  {
   "cell_type": "code",
   "execution_count": 18,
   "metadata": {},
   "outputs": [
    {
     "data": {
      "text/plain": [
       "'large semiaquatic rodent with webbed hind feet and a broad flat tail; construct complex dams and underwater lodges'"
      ]
     },
     "execution_count": 18,
     "metadata": {},
     "output_type": "execute_result"
    }
   ],
   "source": [
    "word[6].definition()"
   ]
  },
  {
   "cell_type": "code",
   "execution_count": 19,
   "metadata": {},
   "outputs": [],
   "source": [
    "unambiguous.append((word[6], \"beaver\"))"
   ]
  },
  {
   "cell_type": "code",
   "execution_count": 20,
   "metadata": {},
   "outputs": [],
   "source": [
    "ambiguous = [a for a in ambiguous if a[1] != \"beaver\"]"
   ]
  },
  {
   "cell_type": "markdown",
   "metadata": {},
   "source": [
    "## boat"
   ]
  },
  {
   "cell_type": "code",
   "execution_count": 21,
   "metadata": {},
   "outputs": [
    {
     "data": {
      "text/plain": [
       "['a small vessel for travel on water',\n",
       " 'a dish (often boat-shaped) for serving gravy or sauce',\n",
       " 'ride in a boat on water']"
      ]
     },
     "execution_count": 21,
     "metadata": {},
     "output_type": "execute_result"
    }
   ],
   "source": [
    "word = wn.synsets(\"boat\")\n",
    "[d.definition() for d in word]"
   ]
  },
  {
   "cell_type": "code",
   "execution_count": 22,
   "metadata": {},
   "outputs": [],
   "source": [
    "unambiguous.append((word[0], \"boat\"))"
   ]
  },
  {
   "cell_type": "code",
   "execution_count": 23,
   "metadata": {},
   "outputs": [],
   "source": [
    "ambiguous = [a for a in ambiguous if a[1] != \"boat\"]"
   ]
  },
  {
   "cell_type": "markdown",
   "metadata": {},
   "source": [
    "## "
   ]
  },
  {
   "cell_type": "markdown",
   "metadata": {},
   "source": [
    "## Person"
   ]
  },
  {
   "cell_type": "code",
   "execution_count": 24,
   "metadata": {},
   "outputs": [
    {
     "data": {
      "text/plain": [
       "['a human being',\n",
       " 'a human body (usually including the clothing)',\n",
       " 'a grammatical category used in the classification of pronouns, possessive determiners, and verb forms according to whether they indicate the speaker, the addressee, or a third party']"
      ]
     },
     "execution_count": 24,
     "metadata": {},
     "output_type": "execute_result"
    }
   ],
   "source": [
    "persons = wn.synsets(\"person\")\n",
    "[person.definition() for person in persons]"
   ]
  },
  {
   "cell_type": "code",
   "execution_count": 25,
   "metadata": {},
   "outputs": [],
   "source": [
    "unambiguous.append((persons[0], \"person\"))"
   ]
  },
  {
   "cell_type": "code",
   "execution_count": 26,
   "metadata": {},
   "outputs": [],
   "source": [
    "ambiguous = [a for a in ambiguous if a[1] != \"person\"]"
   ]
  },
  {
   "cell_type": "markdown",
   "metadata": {},
   "source": [
    "## Dolphin"
   ]
  },
  {
   "cell_type": "code",
   "execution_count": 27,
   "metadata": {},
   "outputs": [
    {
     "data": {
      "text/plain": [
       "['large slender food and game fish widely distributed in warm seas (especially around Hawaii)',\n",
       " 'any of various small toothed whales with a beaklike snout; larger than porpoises']"
      ]
     },
     "execution_count": 27,
     "metadata": {},
     "output_type": "execute_result"
    }
   ],
   "source": [
    "dolphin = wn.synsets(\"dolphin\")\n",
    "[d.definition() for d in dolphin]"
   ]
  },
  {
   "cell_type": "code",
   "execution_count": 28,
   "metadata": {},
   "outputs": [],
   "source": [
    "unambiguous.append((dolphin[1], \"dolphin\"))"
   ]
  },
  {
   "cell_type": "code",
   "execution_count": 29,
   "metadata": {},
   "outputs": [],
   "source": [
    "ambiguous = [a for a in ambiguous if a[1] != \"dolphin\"]"
   ]
  },
  {
   "cell_type": "markdown",
   "metadata": {},
   "source": [
    "## Fish"
   ]
  },
  {
   "cell_type": "code",
   "execution_count": 30,
   "metadata": {},
   "outputs": [
    {
     "data": {
      "text/plain": [
       "['any of various mostly cold-blooded aquatic vertebrates usually having scales and breathing through gills',\n",
       " 'the flesh of fish used as food',\n",
       " '(astrology) a person who is born while the sun is in Pisces',\n",
       " 'the twelfth sign of the zodiac; the sun is in this sign from about February 19 to March 20',\n",
       " 'seek indirectly',\n",
       " 'catch or try to catch fish or shellfish']"
      ]
     },
     "execution_count": 30,
     "metadata": {},
     "output_type": "execute_result"
    }
   ],
   "source": [
    "word = wn.synsets(\"fish\")\n",
    "[d.definition() for d in word]"
   ]
  },
  {
   "cell_type": "code",
   "execution_count": 31,
   "metadata": {},
   "outputs": [],
   "source": [
    "unambiguous.append((word[0], \"fish\"))"
   ]
  },
  {
   "cell_type": "code",
   "execution_count": 32,
   "metadata": {},
   "outputs": [],
   "source": [
    "ambiguous = [a for a in ambiguous if a[1] != \"fish\"]"
   ]
  },
  {
   "cell_type": "markdown",
   "metadata": {},
   "source": [
    "## Castle"
   ]
  },
  {
   "cell_type": "code",
   "execution_count": 33,
   "metadata": {},
   "outputs": [
    {
     "data": {
      "text/plain": [
       "['a large and stately mansion',\n",
       " 'a large building formerly occupied by a ruler and fortified against attack',\n",
       " '(chess) the piece that can move any number of unoccupied squares in a direction parallel to the sides of the chessboard',\n",
       " 'interchanging the positions of the king and a rook',\n",
       " 'move the king two squares toward a rook and in the same move the rook to the square next past the king']"
      ]
     },
     "execution_count": 33,
     "metadata": {},
     "output_type": "execute_result"
    }
   ],
   "source": [
    "word = wn.synsets(\"castle\")\n",
    "[d.definition() for d in word]"
   ]
  },
  {
   "cell_type": "code",
   "execution_count": 34,
   "metadata": {},
   "outputs": [],
   "source": [
    "unambiguous.append((word[0], \"castle\"))"
   ]
  },
  {
   "cell_type": "code",
   "execution_count": 35,
   "metadata": {},
   "outputs": [],
   "source": [
    "ambiguous = [a for a in ambiguous if a[1] != \"castle\"]"
   ]
  },
  {
   "cell_type": "markdown",
   "metadata": {},
   "source": [
    "## Same for palace"
   ]
  },
  {
   "cell_type": "code",
   "execution_count": 36,
   "metadata": {},
   "outputs": [
    {
     "data": {
      "text/plain": [
       "['a large and stately mansion',\n",
       " 'a large building formerly occupied by a ruler and fortified against attack',\n",
       " '(chess) the piece that can move any number of unoccupied squares in a direction parallel to the sides of the chessboard',\n",
       " 'interchanging the positions of the king and a rook',\n",
       " 'move the king two squares toward a rook and in the same move the rook to the square next past the king']"
      ]
     },
     "execution_count": 36,
     "metadata": {},
     "output_type": "execute_result"
    }
   ],
   "source": [
    "word = wn.synsets(\"castle\")\n",
    "[d.definition() for d in word]"
   ]
  },
  {
   "cell_type": "code",
   "execution_count": 37,
   "metadata": {},
   "outputs": [],
   "source": [
    "unambiguous.append((word[0], \"palace\"))"
   ]
  },
  {
   "cell_type": "code",
   "execution_count": 38,
   "metadata": {},
   "outputs": [],
   "source": [
    "ambiguous = [a for a in ambiguous if a[1] != \"palace\"]"
   ]
  },
  {
   "cell_type": "markdown",
   "metadata": {},
   "source": [
    "## Ox"
   ]
  },
  {
   "cell_type": "code",
   "execution_count": 39,
   "metadata": {},
   "outputs": [
    {
     "data": {
      "text/plain": [
       "['an adult castrated bull of the genus Bos; especially Bos taurus',\n",
       " 'any of various wild bovines especially of the genera Bos or closely related Bibos']"
      ]
     },
     "execution_count": 39,
     "metadata": {},
     "output_type": "execute_result"
    }
   ],
   "source": [
    "word = wn.synsets(\"ox\")\n",
    "[d.definition() for d in word]"
   ]
  },
  {
   "cell_type": "code",
   "execution_count": 40,
   "metadata": {},
   "outputs": [
    {
     "data": {
      "text/plain": [
       "'wild and domestic cattle; in some classifications placed in the subfamily Bovinae or tribe Bovini'"
      ]
     },
     "execution_count": 40,
     "metadata": {},
     "output_type": "execute_result"
    }
   ],
   "source": [
    "wn.synsets(\"bos\")[0].definition()"
   ]
  },
  {
   "cell_type": "code",
   "execution_count": 41,
   "metadata": {},
   "outputs": [],
   "source": [
    "# Force bos\n",
    "unambiguous.append((wn.synsets(\"bos\")[0], \"ox\"))"
   ]
  },
  {
   "cell_type": "code",
   "execution_count": 42,
   "metadata": {},
   "outputs": [],
   "source": [
    "ambiguous = [a for a in ambiguous if a[1] != \"ox\"]"
   ]
  },
  {
   "cell_type": "markdown",
   "metadata": {},
   "source": [
    "## Butterfly"
   ]
  },
  {
   "cell_type": "code",
   "execution_count": 43,
   "metadata": {},
   "outputs": [
    {
     "data": {
      "text/plain": [
       "['diurnal insect typically having a slender body with knobbed antennae and broad colorful wings',\n",
       " 'a swimming stroke in which the arms are thrown forward together out of the water while the feet kick up and down',\n",
       " 'flutter like a butterfly',\n",
       " 'cut and spread open, as in preparation for cooking',\n",
       " 'talk or behave amorously, without serious intentions']"
      ]
     },
     "execution_count": 43,
     "metadata": {},
     "output_type": "execute_result"
    }
   ],
   "source": [
    "[w.definition() for w in wn.synsets(\"butterfly\")]"
   ]
  },
  {
   "cell_type": "code",
   "execution_count": 44,
   "metadata": {},
   "outputs": [],
   "source": [
    "unambiguous.append((wn.synsets(\"butterfly\")[0], \"butterfly\"))"
   ]
  },
  {
   "cell_type": "code",
   "execution_count": 45,
   "metadata": {},
   "outputs": [],
   "source": [
    "ambiguous = [a for a in ambiguous if a[1] != \"butterfly\"]"
   ]
  },
  {
   "cell_type": "markdown",
   "metadata": {},
   "source": [
    "## Camera"
   ]
  },
  {
   "cell_type": "code",
   "execution_count": 46,
   "metadata": {},
   "outputs": [
    {
     "data": {
      "text/plain": [
       "['equipment for taking photographs (usually consisting of a lightproof box with a lens at one end and light-sensitive film at the other)',\n",
       " 'television equipment consisting of a lens system that focuses an image on a photosensitive mosaic that is scanned by an electron beam']"
      ]
     },
     "execution_count": 46,
     "metadata": {},
     "output_type": "execute_result"
    }
   ],
   "source": [
    "[w.definition() for w in wn.synsets(\"camera\")]"
   ]
  },
  {
   "cell_type": "code",
   "execution_count": 47,
   "metadata": {},
   "outputs": [],
   "source": [
    "unambiguous.append((wn.synsets(\"camera\")[0], \"camera\"))"
   ]
  },
  {
   "cell_type": "code",
   "execution_count": 48,
   "metadata": {},
   "outputs": [],
   "source": [
    "ambiguous = [a for a in ambiguous if a[1] != \"camera\"]"
   ]
  },
  {
   "cell_type": "markdown",
   "metadata": {},
   "source": [
    "## Cannon"
   ]
  },
  {
   "cell_type": "code",
   "execution_count": 49,
   "metadata": {},
   "outputs": [
    {
     "data": {
      "text/plain": [
       "['a large artillery gun that is usually on wheels',\n",
       " 'heavy gun fired from a tank',\n",
       " '(Middle Ages) a cylindrical piece of armor plate to protect the arm',\n",
       " 'heavy automatic gun fired from an airplane',\n",
       " 'lower part of the leg extending from the hock to the fetlock in hoofed mammals',\n",
       " 'a shot in billiards in which the cue ball contacts one object ball and then the other',\n",
       " 'make a cannon',\n",
       " 'fire a cannon']"
      ]
     },
     "execution_count": 49,
     "metadata": {},
     "output_type": "execute_result"
    }
   ],
   "source": [
    "[w.definition() for w in wn.synsets(\"cannon\")]"
   ]
  },
  {
   "cell_type": "code",
   "execution_count": 50,
   "metadata": {},
   "outputs": [],
   "source": [
    "unambiguous.append((wn.synsets(\"cannon\")[0], \"cannon\"))"
   ]
  },
  {
   "cell_type": "code",
   "execution_count": 51,
   "metadata": {},
   "outputs": [],
   "source": [
    "ambiguous = [a for a in ambiguous if a[1] != \"cannon\"]"
   ]
  },
  {
   "cell_type": "markdown",
   "metadata": {},
   "source": [
    "## Car"
   ]
  },
  {
   "cell_type": "code",
   "execution_count": 52,
   "metadata": {},
   "outputs": [
    {
     "data": {
      "text/plain": [
       "['a motor vehicle with four wheels; usually propelled by an internal combustion engine',\n",
       " 'a wheeled vehicle adapted to the rails of railroad',\n",
       " 'the compartment that is suspended from an airship and that carries personnel and the cargo and the power plant',\n",
       " 'where passengers ride up and down',\n",
       " 'a conveyance for passengers or freight on a cable railway']"
      ]
     },
     "execution_count": 52,
     "metadata": {},
     "output_type": "execute_result"
    }
   ],
   "source": [
    "[w.definition() for w in wn.synsets(\"car\")]"
   ]
  },
  {
   "cell_type": "code",
   "execution_count": 53,
   "metadata": {},
   "outputs": [],
   "source": [
    "unambiguous.append((wn.synsets(\"car\")[0], \"car\"))"
   ]
  },
  {
   "cell_type": "code",
   "execution_count": 54,
   "metadata": {},
   "outputs": [],
   "source": [
    "ambiguous = [a for a in ambiguous if a[1] != \"car\"]"
   ]
  },
  {
   "cell_type": "markdown",
   "metadata": {},
   "source": [
    "## Cat"
   ]
  },
  {
   "cell_type": "code",
   "execution_count": 55,
   "metadata": {},
   "outputs": [
    {
     "data": {
      "text/plain": [
       "['feline mammal usually having thick soft fur and no ability to roar: domestic cats; wildcats',\n",
       " 'an informal term for a youth or man',\n",
       " 'a spiteful woman gossip',\n",
       " 'the leaves of the shrub Catha edulis which are chewed like tobacco or used to make tea; has the effect of a euphoric stimulant',\n",
       " 'a whip with nine knotted cords',\n",
       " 'a large tracked vehicle that is propelled by two endless metal belts; frequently used for moving earth in construction and farm work',\n",
       " 'any of several large cats typically able to roar and living in the wild',\n",
       " 'a method of examining body organs by scanning them with X rays and using a computer to construct a series of cross-sectional scans along a single axis',\n",
       " \"beat with a cat-o'-nine-tails\",\n",
       " 'eject the contents of the stomach through the mouth']"
      ]
     },
     "execution_count": 55,
     "metadata": {},
     "output_type": "execute_result"
    }
   ],
   "source": [
    "[w.definition() for w in wn.synsets(\"cat\")]"
   ]
  },
  {
   "cell_type": "code",
   "execution_count": 56,
   "metadata": {},
   "outputs": [],
   "source": [
    "unambiguous.append((wn.synsets(\"cat\")[0], \"cat\"))"
   ]
  },
  {
   "cell_type": "code",
   "execution_count": 57,
   "metadata": {},
   "outputs": [],
   "source": [
    "ambiguous = [a for a in ambiguous if a[1] != \"cat\"]"
   ]
  },
  {
   "cell_type": "markdown",
   "metadata": {},
   "source": [
    "## Chair"
   ]
  },
  {
   "cell_type": "code",
   "execution_count": 58,
   "metadata": {},
   "outputs": [
    {
     "data": {
      "text/plain": [
       "['a seat for one person, with a support for the back',\n",
       " 'the position of professor',\n",
       " 'the officer who presides at the meetings of an organization',\n",
       " 'an instrument of execution by electrocution; resembles an ordinary seat for one person',\n",
       " 'a particular seat in an orchestra',\n",
       " 'act or preside as chair, as of an academic department in a university',\n",
       " 'preside over']"
      ]
     },
     "execution_count": 58,
     "metadata": {},
     "output_type": "execute_result"
    }
   ],
   "source": [
    "[w.definition() for w in wn.synsets(\"chair\")]"
   ]
  },
  {
   "cell_type": "code",
   "execution_count": 59,
   "metadata": {},
   "outputs": [],
   "source": [
    "unambiguous.append((wn.synsets(\"chair\")[0], \"chair\"))"
   ]
  },
  {
   "cell_type": "code",
   "execution_count": 60,
   "metadata": {},
   "outputs": [],
   "source": [
    "ambiguous = [a for a in ambiguous if a[1] != \"chair\"]"
   ]
  },
  {
   "cell_type": "markdown",
   "metadata": {},
   "source": [
    "## Crab"
   ]
  },
  {
   "cell_type": "code",
   "execution_count": 61,
   "metadata": {},
   "outputs": [
    {
     "data": {
      "text/plain": [
       "['decapod having eyes on short stalks and a broad flattened carapace with a small abdomen folded under the thorax and pincers',\n",
       " 'a quarrelsome grouch',\n",
       " '(astrology) a person who is born while the sun is in Cancer',\n",
       " 'the fourth sign of the zodiac; the sun is in this sign from about June 21 to July 22',\n",
       " 'the edible flesh of any of various crabs',\n",
       " 'a louse that infests the pubic region of the human body',\n",
       " 'a stroke of the oar that either misses the water or digs too deeply',\n",
       " 'direct (an aircraft) into a crosswind',\n",
       " 'scurry sideways like a crab',\n",
       " 'fish for crab',\n",
       " 'complain']"
      ]
     },
     "execution_count": 61,
     "metadata": {},
     "output_type": "execute_result"
    }
   ],
   "source": [
    "[w.definition() for w in wn.synsets(\"crab\")]"
   ]
  },
  {
   "cell_type": "code",
   "execution_count": 62,
   "metadata": {},
   "outputs": [],
   "source": [
    "unambiguous.append((wn.synsets(\"crab\")[0], \"crab\"))"
   ]
  },
  {
   "cell_type": "code",
   "execution_count": 63,
   "metadata": {},
   "outputs": [],
   "source": [
    "ambiguous = [a for a in ambiguous if a[1] != \"crab\"]"
   ]
  },
  {
   "cell_type": "markdown",
   "metadata": {},
   "source": [
    "## Crawfish"
   ]
  },
  {
   "cell_type": "code",
   "execution_count": 64,
   "metadata": {},
   "outputs": [
    {
     "data": {
      "text/plain": [
       "['tiny lobster-like crustaceans usually boiled briefly',\n",
       " 'small freshwater decapod crustacean that resembles a lobster',\n",
       " 'large edible marine crustacean having a spiny carapace but lacking the large pincers of true lobsters',\n",
       " 'make a retreat from an earlier commitment or activity']"
      ]
     },
     "execution_count": 64,
     "metadata": {},
     "output_type": "execute_result"
    }
   ],
   "source": [
    "[w.definition() for w in wn.synsets(\"crawfish\")]"
   ]
  },
  {
   "cell_type": "code",
   "execution_count": 65,
   "metadata": {},
   "outputs": [
    {
     "data": {
      "text/plain": [
       "{Synset('decapod_crustacean.n.01')}"
      ]
     },
     "execution_count": 65,
     "metadata": {},
     "output_type": "execute_result"
    }
   ],
   "source": [
    "w1, w2 = wn.synsets(\"crawfish\")[1], wn.synsets(\"crayfish\")[2]\n",
    "set(w1.hypernyms()).intersection(set(w2.hypernyms()))"
   ]
  },
  {
   "cell_type": "code",
   "execution_count": 66,
   "metadata": {},
   "outputs": [],
   "source": [
    "unambiguous.append((wn.synset(\"decapod_crustacean.n.01\"), \"crawfish\"))"
   ]
  },
  {
   "cell_type": "code",
   "execution_count": 67,
   "metadata": {},
   "outputs": [],
   "source": [
    "ambiguous = [a for a in ambiguous if a[1] != \"crawfish\"]"
   ]
  },
  {
   "cell_type": "markdown",
   "metadata": {},
   "source": [
    "## Dog"
   ]
  },
  {
   "cell_type": "code",
   "execution_count": 68,
   "metadata": {},
   "outputs": [
    {
     "data": {
      "text/plain": [
       "['a member of the genus Canis (probably descended from the common wolf) that has been domesticated by man since prehistoric times; occurs in many breeds',\n",
       " 'a dull unattractive unpleasant girl or woman',\n",
       " 'informal term for a man',\n",
       " 'someone who is morally reprehensible',\n",
       " 'a smooth-textured sausage of minced beef or pork usually smoked; often served on a bread roll',\n",
       " 'a hinged catch that fits into a notch of a ratchet to move a wheel forward or prevent it from moving backward',\n",
       " 'metal supports for logs in a fireplace',\n",
       " 'go after with the intent to catch']"
      ]
     },
     "execution_count": 68,
     "metadata": {},
     "output_type": "execute_result"
    }
   ],
   "source": [
    "[w.definition() for w in wn.synsets(\"dog\")]"
   ]
  },
  {
   "cell_type": "code",
   "execution_count": 69,
   "metadata": {},
   "outputs": [],
   "source": [
    "unambiguous.append((wn.synsets(\"dog\")[0], \"dog\"))"
   ]
  },
  {
   "cell_type": "code",
   "execution_count": 70,
   "metadata": {},
   "outputs": [],
   "source": [
    "ambiguous = [a for a in ambiguous if a[1] != \"dog\"]"
   ]
  },
  {
   "cell_type": "markdown",
   "metadata": {},
   "source": [
    "## Emu"
   ]
  },
  {
   "cell_type": "code",
   "execution_count": 71,
   "metadata": {},
   "outputs": [
    {
     "data": {
      "text/plain": [
       "[Synset('electromagnetic_unit.n.01'), Synset('emu.n.02')]"
      ]
     },
     "execution_count": 71,
     "metadata": {},
     "output_type": "execute_result"
    }
   ],
   "source": [
    "wn.synsets(\"emu\")"
   ]
  },
  {
   "cell_type": "code",
   "execution_count": 72,
   "metadata": {},
   "outputs": [
    {
     "data": {
      "text/plain": [
       "['a person who refuses to face reality or recognize the truth (a reference to the popular notion that the ostrich hides from danger by burying its head in the sand)',\n",
       " 'fast-running African flightless bird with two-toed feet; largest living bird']"
      ]
     },
     "execution_count": 72,
     "metadata": {},
     "output_type": "execute_result"
    }
   ],
   "source": [
    "[w.definition() for w in wn.synsets(\"ostrich\")]"
   ]
  },
  {
   "cell_type": "code",
   "execution_count": 73,
   "metadata": {},
   "outputs": [
    {
     "data": {
      "text/plain": [
       "{Synset('ratite.n.01')}"
      ]
     },
     "execution_count": 73,
     "metadata": {},
     "output_type": "execute_result"
    }
   ],
   "source": [
    "set(wn.synsets(\"emu\")[1].hypernyms()).intersection(set(wn.synsets(\"ostrich\")[1].hypernyms()))"
   ]
  },
  {
   "cell_type": "code",
   "execution_count": 74,
   "metadata": {},
   "outputs": [],
   "source": [
    "unambiguous.append((wn.synset('ratite.n.01'), \"emu or ostrich\"))"
   ]
  },
  {
   "cell_type": "code",
   "execution_count": 75,
   "metadata": {},
   "outputs": [],
   "source": [
    "ambiguous = [a for a in ambiguous if a[1] != \"emu or ostrich\"]"
   ]
  },
  {
   "cell_type": "markdown",
   "metadata": {},
   "source": [
    "## Horse"
   ]
  },
  {
   "cell_type": "code",
   "execution_count": 76,
   "metadata": {},
   "outputs": [
    {
     "data": {
      "text/plain": [
       "['solid-hoofed herbivorous quadruped domesticated since prehistoric times',\n",
       " 'a padded gymnastic apparatus on legs',\n",
       " 'troops trained to fight on horseback',\n",
       " 'a framework for holding wood that is being sawed',\n",
       " 'a chessman shaped to resemble the head of a horse; can move two squares horizontally and one vertically (or vice versa)',\n",
       " 'provide with a horse or horses']"
      ]
     },
     "execution_count": 76,
     "metadata": {},
     "output_type": "execute_result"
    }
   ],
   "source": [
    "[w.definition() for w in wn.synsets(\"horse\")]"
   ]
  },
  {
   "cell_type": "code",
   "execution_count": 77,
   "metadata": {},
   "outputs": [],
   "source": [
    "unambiguous.append((wn.synsets(\"horse\")[0], \"horse\"))"
   ]
  },
  {
   "cell_type": "code",
   "execution_count": 78,
   "metadata": {},
   "outputs": [],
   "source": [
    "ambiguous = [a for a in ambiguous if a[1] != \"horse\"]"
   ]
  },
  {
   "cell_type": "markdown",
   "metadata": {},
   "source": [
    "## Plane"
   ]
  },
  {
   "cell_type": "code",
   "execution_count": 79,
   "metadata": {},
   "outputs": [
    {
     "data": {
      "text/plain": [
       "['an aircraft that has a fixed wing and is powered by propellers or jets',\n",
       " '(mathematics) an unbounded two-dimensional shape',\n",
       " 'a level of existence or development',\n",
       " 'a power tool for smoothing or shaping wood',\n",
       " \"a carpenter's hand tool with an adjustable blade for smoothing or shaping wood\",\n",
       " 'cut or remove with or as if with a plane',\n",
       " 'travel on the surface of water',\n",
       " \"make even or smooth, with or as with a carpenter's plane\",\n",
       " 'having a surface without slope, tilt in which no part is higher or lower than another']"
      ]
     },
     "execution_count": 79,
     "metadata": {},
     "output_type": "execute_result"
    }
   ],
   "source": [
    "[w.definition() for w in wn.synsets(\"plane\")]"
   ]
  },
  {
   "cell_type": "code",
   "execution_count": 80,
   "metadata": {},
   "outputs": [],
   "source": [
    "unambiguous.append((wn.synsets(\"plane\")[0], \"plane\"))"
   ]
  },
  {
   "cell_type": "code",
   "execution_count": 81,
   "metadata": {},
   "outputs": [],
   "source": [
    "ambiguous = [a for a in ambiguous if a[1] != \"plane\"]"
   ]
  },
  {
   "cell_type": "markdown",
   "metadata": {},
   "source": [
    "## Sheep"
   ]
  },
  {
   "cell_type": "code",
   "execution_count": 82,
   "metadata": {},
   "outputs": [
    {
     "data": {
      "text/plain": [
       "['woolly usually horned ruminant mammal related to the goat',\n",
       " 'a timid defenseless simpleton who is readily preyed upon',\n",
       " 'a docile and vulnerable person who would rather follow than make an independent decision']"
      ]
     },
     "execution_count": 82,
     "metadata": {},
     "output_type": "execute_result"
    }
   ],
   "source": [
    "[w.definition() for w in wn.synsets(\"sheep\")]"
   ]
  },
  {
   "cell_type": "code",
   "execution_count": 83,
   "metadata": {},
   "outputs": [
    {
     "data": {
      "text/plain": [
       "['any of numerous agile ruminants related to sheep but having a beard and straight horns',\n",
       " 'a victim of ridicule or pranks',\n",
       " '(astrology) a person who is born while the sun is in Capricorn',\n",
       " 'the tenth sign of the zodiac; the sun is in this sign from about December 22 to January 19']"
      ]
     },
     "execution_count": 83,
     "metadata": {},
     "output_type": "execute_result"
    }
   ],
   "source": [
    "[w.definition() for w in wn.synsets(\"goat\")]"
   ]
  },
  {
   "cell_type": "code",
   "execution_count": 84,
   "metadata": {},
   "outputs": [
    {
     "data": {
      "text/plain": [
       "{Synset('bovid.n.01')}"
      ]
     },
     "execution_count": 84,
     "metadata": {},
     "output_type": "execute_result"
    }
   ],
   "source": [
    "set(wn.synsets(\"sheep\")[0].hypernyms()).intersection(set(wn.synsets(\"goat\")[0].hypernyms()))"
   ]
  },
  {
   "cell_type": "code",
   "execution_count": 85,
   "metadata": {},
   "outputs": [],
   "source": [
    "unambiguous.append((wn.synset('bovid.n.01'), \"sheep or goat\"))"
   ]
  },
  {
   "cell_type": "code",
   "execution_count": 86,
   "metadata": {},
   "outputs": [],
   "source": [
    "ambiguous = [a for a in ambiguous if a[1] != \"sheep or goat\"]"
   ]
  },
  {
   "cell_type": "markdown",
   "metadata": {},
   "source": [
    "## Elephant"
   ]
  },
  {
   "cell_type": "code",
   "execution_count": 87,
   "metadata": {},
   "outputs": [
    {
     "data": {
      "text/plain": [
       "['five-toed pachyderm',\n",
       " 'the symbol of the Republican Party; introduced in cartoons by Thomas Nast in 1874']"
      ]
     },
     "execution_count": 87,
     "metadata": {},
     "output_type": "execute_result"
    }
   ],
   "source": [
    "[w.definition() for w in wn.synsets(\"elephant\")]"
   ]
  },
  {
   "cell_type": "code",
   "execution_count": 88,
   "metadata": {},
   "outputs": [],
   "source": [
    "unambiguous.append((wn.synsets(\"elephant\")[0], \"elephant\"))"
   ]
  },
  {
   "cell_type": "markdown",
   "metadata": {},
   "source": [
    "## Fan"
   ]
  },
  {
   "cell_type": "code",
   "execution_count": 89,
   "metadata": {},
   "outputs": [
    {
     "data": {
      "text/plain": [
       "['a device for creating a current of air by movement of a surface or surfaces',\n",
       " 'an enthusiastic devotee of sports',\n",
       " 'an ardent follower and admirer',\n",
       " 'strike out (a batter), (of a pitcher)',\n",
       " 'make (an emotion) fiercer',\n",
       " 'agitate the air',\n",
       " 'separate the chaff from by using air currents']"
      ]
     },
     "execution_count": 89,
     "metadata": {},
     "output_type": "execute_result"
    }
   ],
   "source": [
    "[w.definition() for w in wn.synsets(\"fan\")]"
   ]
  },
  {
   "cell_type": "code",
   "execution_count": 90,
   "metadata": {},
   "outputs": [],
   "source": [
    "unambiguous.append((wn.synsets(\"fan\")[0], \"fan\"))"
   ]
  },
  {
   "cell_type": "markdown",
   "metadata": {},
   "source": [
    "## All"
   ]
  },
  {
   "cell_type": "code",
   "execution_count": 91,
   "metadata": {},
   "outputs": [
    {
     "data": {
      "text/plain": [
       "38"
      ]
     },
     "execution_count": 91,
     "metadata": {},
     "output_type": "execute_result"
    }
   ],
   "source": [
    "len(unambiguous)"
   ]
  },
  {
   "cell_type": "markdown",
   "metadata": {},
   "source": [
    "## make a dictionary"
   ]
  },
  {
   "cell_type": "code",
   "execution_count": 92,
   "metadata": {},
   "outputs": [
    {
     "name": "stdout",
     "output_type": "stream",
     "text": [
      "accordion :\t a portable box-shaped free-reed instrument; the reeds are made to vibrate by air from the bellows controlled by the player\n",
      "ant :\t social insect living in organized colonies; characteristically the males and fertile queen have wings during breeding season; wingless sterile females are the workers\n",
      "bonsai :\t a dwarfed ornamental tree or shrub grown in a tray or shallow pot\n",
      "chandelier :\t branched lighting fixture; often ornate; hangs from the ceiling\n",
      "cougar :\t large American feline resembling a lion\n",
      "dragonfly :\t slender-bodied non-stinging insect having iridescent wings that are outspread at rest; adults and nymphs feed on mosquitoes etc.\n",
      "guitar :\t a stringed instrument usually having six strings; played by strumming or plucking\n",
      "helicopter :\t an aircraft without wings that obtains its lift from the rotation of overhead blades\n",
      "moped :\t a motorbike that can be pedaled or driven by a low-powered gasoline engine\n",
      "statue :\t a sculpture representing a human or animal\n",
      "teapot :\t pot for brewing tea; usually has a spout and handle\n",
      "trolley :\t a wheeled vehicle that runs on rails and is propelled by electricity\n",
      "alligator :\t extant archosaurian reptile\n",
      "anchor :\t a mechanical device that prevents a vessel from moving\n",
      "barrel :\t a tube through which a bullet travels when a gun is fired\n",
      "beaver :\t large semiaquatic rodent with webbed hind feet and a broad flat tail; construct complex dams and underwater lodges\n",
      "boat :\t a small vessel for travel on water\n",
      "person :\t a human being\n",
      "dolphin :\t any of various small toothed whales with a beaklike snout; larger than porpoises\n",
      "fish :\t any of various mostly cold-blooded aquatic vertebrates usually having scales and breathing through gills\n",
      "castle :\t a large and stately mansion\n",
      "palace :\t a large and stately mansion\n",
      "ox :\t wild and domestic cattle; in some classifications placed in the subfamily Bovinae or tribe Bovini\n",
      "butterfly :\t diurnal insect typically having a slender body with knobbed antennae and broad colorful wings\n",
      "camera :\t equipment for taking photographs (usually consisting of a lightproof box with a lens at one end and light-sensitive film at the other)\n",
      "cannon :\t a large artillery gun that is usually on wheels\n",
      "car :\t a motor vehicle with four wheels; usually propelled by an internal combustion engine\n",
      "cat :\t feline mammal usually having thick soft fur and no ability to roar: domestic cats; wildcats\n",
      "chair :\t a seat for one person, with a support for the back\n",
      "crab :\t decapod having eyes on short stalks and a broad flattened carapace with a small abdomen folded under the thorax and pincers\n",
      "crawfish :\t crustaceans characteristically having five pairs of locomotor appendages each joined to a segment of the thorax\n",
      "dog :\t a member of the genus Canis (probably descended from the common wolf) that has been domesticated by man since prehistoric times; occurs in many breeds\n",
      "emu or ostrich :\t flightless birds having flat breastbones lacking a keel for attachment of flight muscles: ostriches; cassowaries; emus; moas; rheas; kiwis; elephant birds\n",
      "horse :\t solid-hoofed herbivorous quadruped domesticated since prehistoric times\n",
      "plane :\t an aircraft that has a fixed wing and is powered by propellers or jets\n",
      "sheep or goat :\t hollow-horned ruminants\n",
      "elephant :\t five-toed pachyderm\n",
      "fan :\t a device for creating a current of air by movement of a surface or surfaces\n"
     ]
    }
   ],
   "source": [
    "for synset, label in unambiguous:\n",
    "    print(label, \":\\t\", synset.definition())"
   ]
  },
  {
   "cell_type": "code",
   "execution_count": 93,
   "metadata": {},
   "outputs": [],
   "source": [
    "d = {label: synset.name() for synset, label in unambiguous}"
   ]
  },
  {
   "cell_type": "code",
   "execution_count": 94,
   "metadata": {},
   "outputs": [],
   "source": [
    "import json\n",
    "json.dump(d, open(\"../../data/wordnet_translation.json\", \"w\"))"
   ]
  },
  {
   "cell_type": "markdown",
   "metadata": {},
   "source": [
    "## Get wordnet synsets"
   ]
  },
  {
   "cell_type": "code",
   "execution_count": 96,
   "metadata": {},
   "outputs": [],
   "source": [
    "txt = \"../../data/imagenet_label_to_wordnet_synset.txt\"\n",
    "\n",
    "# Parse as a dictionary and save as json\n",
    "with open(txt, \"r\") as f:\n",
    "    # Read the file content\n",
    "    s = f.read()\n",
    "\n",
    "# Convert the string to a dictionary\n",
    "s = eval(s)"
   ]
  },
  {
   "cell_type": "code",
   "execution_count": 97,
   "metadata": {},
   "outputs": [],
   "source": [
    "# Save the dictionary as a json file\n",
    "json.dump(s, open(\"../../data/imagenet_label_to_wordnet_synset.json\", \"w\"))"
   ]
  }
 ],
 "metadata": {
  "kernelspec": {
   "display_name": "nature2023",
   "language": "python",
   "name": "python3"
  },
  "language_info": {
   "codemirror_mode": {
    "name": "ipython",
    "version": 3
   },
   "file_extension": ".py",
   "mimetype": "text/x-python",
   "name": "python",
   "nbconvert_exporter": "python",
   "pygments_lexer": "ipython3",
   "version": "3.11.8"
  }
 },
 "nbformat": 4,
 "nbformat_minor": 2
}
