{
 "cells": [
  {
   "cell_type": "code",
   "execution_count": 12,
   "metadata": {},
   "outputs": [],
   "source": [
    "import pandas as pd"
   ]
  },
  {
   "cell_type": "code",
   "execution_count": 13,
   "metadata": {},
   "outputs": [],
   "source": [
    "\"dinov2-base-imagenet1k-1-layer_seed1.csv\"\n",
    "path = \"/Users/chris/projects/Nature2023MooneyScripts/results/long_native_trials/\"\n",
    "\n",
    "dfs = []\n",
    "\n",
    "for synth_seed in range(1000):\n",
    "    for model_seed in range(4):\n",
    "        file_csv = path + f\"/{synth_seed}_dinov2-base-imagenet1k-1-layer_seed{model_seed}.csv\"\n",
    "        loaded = pd.read_csv(file_csv)\n",
    "        loaded[\"model_seed\"] = model_seed\n",
    "        loaded[\"synth_seed\"] = synth_seed\n",
    "\n",
    "        dfs.append(loaded)\n",
    "\n",
    "df = pd.concat(dfs)"
   ]
  },
  {
   "cell_type": "code",
   "execution_count": 14,
   "metadata": {},
   "outputs": [
    {
     "data": {
      "text/html": [
       "<div>\n",
       "<style scoped>\n",
       "    .dataframe tbody tr th:only-of-type {\n",
       "        vertical-align: middle;\n",
       "    }\n",
       "\n",
       "    .dataframe tbody tr th {\n",
       "        vertical-align: top;\n",
       "    }\n",
       "\n",
       "    .dataframe thead th {\n",
       "        text-align: right;\n",
       "    }\n",
       "</style>\n",
       "<table border=\"1\" class=\"dataframe\">\n",
       "  <thead>\n",
       "    <tr style=\"text-align: right;\">\n",
       "      <th></th>\n",
       "      <th>Image phase</th>\n",
       "      <th>Time index</th>\n",
       "      <th>Ground truth class</th>\n",
       "      <th>Predicted class</th>\n",
       "      <th>model_seed</th>\n",
       "      <th>synth_seed</th>\n",
       "    </tr>\n",
       "  </thead>\n",
       "  <tbody>\n",
       "    <tr>\n",
       "      <th>0</th>\n",
       "      <td>pre</td>\n",
       "      <td>0</td>\n",
       "      <td>5</td>\n",
       "      <td>33</td>\n",
       "      <td>0</td>\n",
       "      <td>0</td>\n",
       "    </tr>\n",
       "    <tr>\n",
       "      <th>1</th>\n",
       "      <td>pre</td>\n",
       "      <td>1</td>\n",
       "      <td>743</td>\n",
       "      <td>794</td>\n",
       "      <td>0</td>\n",
       "      <td>0</td>\n",
       "    </tr>\n",
       "    <tr>\n",
       "      <th>2</th>\n",
       "      <td>pre</td>\n",
       "      <td>2</td>\n",
       "      <td>511</td>\n",
       "      <td>511</td>\n",
       "      <td>0</td>\n",
       "      <td>0</td>\n",
       "    </tr>\n",
       "    <tr>\n",
       "      <th>3</th>\n",
       "      <td>gray</td>\n",
       "      <td>0</td>\n",
       "      <td>5</td>\n",
       "      <td>5</td>\n",
       "      <td>0</td>\n",
       "      <td>0</td>\n",
       "    </tr>\n",
       "    <tr>\n",
       "      <th>4</th>\n",
       "      <td>gray</td>\n",
       "      <td>1</td>\n",
       "      <td>743</td>\n",
       "      <td>743</td>\n",
       "      <td>0</td>\n",
       "      <td>0</td>\n",
       "    </tr>\n",
       "  </tbody>\n",
       "</table>\n",
       "</div>"
      ],
      "text/plain": [
       "  Image phase  Time index  Ground truth class  Predicted class  model_seed  \\\n",
       "0         pre           0                   5               33           0   \n",
       "1         pre           1                 743              794           0   \n",
       "2         pre           2                 511              511           0   \n",
       "3        gray           0                   5                5           0   \n",
       "4        gray           1                 743              743           0   \n",
       "\n",
       "   synth_seed  \n",
       "0           0  \n",
       "1           0  \n",
       "2           0  \n",
       "3           0  \n",
       "4           0  "
      ]
     },
     "execution_count": 14,
     "metadata": {},
     "output_type": "execute_result"
    }
   ],
   "source": [
    "df.head()"
   ]
  },
  {
   "cell_type": "code",
   "execution_count": 15,
   "metadata": {},
   "outputs": [],
   "source": [
    "from scipy.stats import norm\n",
    "import numpy as np\n",
    "\n",
    "def two_proportion_z_test(success_a, trials_a, success_b, trials_b, alternative='two-sided'):\n",
    "    # Calculate success rates\n",
    "    p1 = success_a / trials_a\n",
    "    p2 = success_b / trials_b\n",
    "\n",
    "    # Calculate pooled success rate\n",
    "    pooled_p = (success_a + success_b) / (trials_a + trials_b)\n",
    "\n",
    "    # Calculate standard error\n",
    "    standard_error = np.sqrt(pooled_p * (1 - pooled_p) * (1 / trials_a + 1 / trials_b))\n",
    "\n",
    "    # Calculate z-statistic\n",
    "    z_stat = (p1 - p2) / standard_error\n",
    "\n",
    "    # Calculate p-value based on the alternative hypothesis\n",
    "    if alternative == 'two-sided':\n",
    "        p_value = 2 * (1 - norm.cdf(np.abs(z_stat)))\n",
    "    elif alternative == 'greater':\n",
    "        p_value = 1 - norm.cdf(z_stat)\n",
    "    elif alternative == 'less':\n",
    "        p_value = norm.cdf(z_stat)\n",
    "    else:\n",
    "        raise ValueError(\"alternative must be 'two-sided', 'greater', or 'less'\")\n",
    "\n",
    "    return z_stat, p_value"
   ]
  },
  {
   "cell_type": "code",
   "execution_count": 16,
   "metadata": {},
   "outputs": [],
   "source": [
    "import matplotlib.pyplot as plt\n",
    "import seaborn as sns"
   ]
  },
  {
   "cell_type": "code",
   "execution_count": 17,
   "metadata": {},
   "outputs": [],
   "source": [
    "df[\"Accuracy\"] = (df[\"Ground truth class\"] == df[\"Predicted class\"]).astype(int)"
   ]
  },
  {
   "cell_type": "markdown",
   "metadata": {},
   "source": [
    "## Compare single image performance"
   ]
  },
  {
   "cell_type": "code",
   "execution_count": 9,
   "metadata": {},
   "outputs": [
    {
     "data": {
      "text/plain": [
       "Index(['synth_seed', 'model_seed', 'Image phase', 'Time index',\n",
       "       'Ground truth class', 'Predicted class', 'Accuracy'],\n",
       "      dtype='object')"
      ]
     },
     "execution_count": 9,
     "metadata": {},
     "output_type": "execute_result"
    }
   ],
   "source": [
    "df.columns"
   ]
  },
  {
   "cell_type": "code",
   "execution_count": 25,
   "metadata": {},
   "outputs": [],
   "source": [
    "first_df = df[df[\"Time index\"] == 0]\n",
    "first_df = first_df[first_df[\"Image phase\"] != \"repetition\"]\n",
    "\n",
    "# Get phase performance\n",
    "first_perf = first_df.groupby(\"Image phase\").agg({\"Accuracy\": \"mean\"}).reset_index()"
   ]
  },
  {
   "cell_type": "code",
   "execution_count": 24,
   "metadata": {},
   "outputs": [
    {
     "data": {
      "text/html": [
       "<div>\n",
       "<style scoped>\n",
       "    .dataframe tbody tr th:only-of-type {\n",
       "        vertical-align: middle;\n",
       "    }\n",
       "\n",
       "    .dataframe tbody tr th {\n",
       "        vertical-align: top;\n",
       "    }\n",
       "\n",
       "    .dataframe thead th {\n",
       "        text-align: right;\n",
       "    }\n",
       "</style>\n",
       "<table border=\"1\" class=\"dataframe\">\n",
       "  <thead>\n",
       "    <tr style=\"text-align: right;\">\n",
       "      <th></th>\n",
       "      <th>Image phase</th>\n",
       "      <th>Accuracy</th>\n",
       "    </tr>\n",
       "  </thead>\n",
       "  <tbody>\n",
       "    <tr>\n",
       "      <th>0</th>\n",
       "      <td>gray</td>\n",
       "      <td>0.85400</td>\n",
       "    </tr>\n",
       "    <tr>\n",
       "      <th>1</th>\n",
       "      <td>post</td>\n",
       "      <td>0.72875</td>\n",
       "    </tr>\n",
       "    <tr>\n",
       "      <th>2</th>\n",
       "      <td>pre</td>\n",
       "      <td>0.56150</td>\n",
       "    </tr>\n",
       "    <tr>\n",
       "      <th>3</th>\n",
       "      <td>repetition</td>\n",
       "      <td>0.58550</td>\n",
       "    </tr>\n",
       "  </tbody>\n",
       "</table>\n",
       "</div>"
      ],
      "text/plain": [
       "  Image phase  Accuracy\n",
       "0        gray   0.85400\n",
       "1        post   0.72875\n",
       "2         pre   0.56150\n",
       "3  repetition   0.58550"
      ]
     },
     "execution_count": 24,
     "metadata": {},
     "output_type": "execute_result"
    }
   ],
   "source": [
    "first_perf"
   ]
  },
  {
   "cell_type": "code",
   "execution_count": 35,
   "metadata": {},
   "outputs": [
    {
     "data": {
      "image/png": "[encoded data removed]",
      "text/plain": [
       "<Figure size 600x300 with 1 Axes>"
      ]
     },
     "metadata": {},
     "output_type": "display_data"
    }
   ],
   "source": [
    "plt.figure(figsize=(6, 3))\n",
    "\n",
    "perf_df = {\n",
    "    \"Model\": [\"Ours\", \"Ours\", \"Ours\", \"Cornet\", \"Cornet\", \"Cornet\", \"BLT\", \"BLT\", \"BLT\"],\n",
    "    \"Accuracy\": [0.85400, 0.72875, 0.56150, 0.48886, 0.29602, 0.27856, 0.26, 0.23, 0.06],\n",
    "    \"Image phase\": [\"gray\", \"post\", \"pre\", \"gray\", \"post\", \"pre\", \"gray\", \"post\", \"pre\"]\n",
    "}\n",
    "perf_df = pd.DataFrame(perf_df)\n",
    "\n",
    "# Append the number of trainable parameters\n",
    "perf_df.replace({\"Ours\": \"Ours (5M trainable)\", \"Cornet\": \"Cornet (6M trainable)\", \"BLT\": \"BLT (18M trainable)\"}, inplace=True)\n",
    "\n",
    "sns.barplot(data=perf_df, x=\"Model\", y=\"Accuracy\", hue=\"Image phase\", hue_order=[\"pre\", \"post\", \"gray\"])\n",
    "plt.gca().spines[['top', 'right']].set_visible(False)\n",
    "plt.savefig(\"/Users/chris/Desktop/performance.png\", dpi=1200, bbox_inches=\"tight\")"
   ]
  },
  {
   "cell_type": "code",
   "execution_count": null,
   "metadata": {},
   "outputs": [],
   "source": [
    "# Add the other models\n",
    "other_model = {}"
   ]
  },
  {
   "cell_type": "markdown",
   "metadata": {},
   "source": [
    "## Long performance"
   ]
  },
  {
   "cell_type": "code",
   "execution_count": null,
   "metadata": {},
   "outputs": [],
   "source": [
    "# Average over a trial\n",
    "df = df.groupby([\"synth_seed\", \"model_seed\", \"Image phase\"]).mean().reset_index()"
   ]
  },
  {
   "cell_type": "code",
   "execution_count": 8,
   "metadata": {},
   "outputs": [],
   "source": [
    "from scipy.stats import mannwhitneyu, ttest_1samp\n",
    "\n",
    "# Test if:\n",
    "# 1. Repetition > pre\n",
    "# 2. Post > pre\n",
    "# 3. Post > repetition\n",
    "# 4. Gray > post\n",
    "# 5. Gray < 0.845\n",
    "\n",
    "pre_acc = df[df[\"Image phase\"] == \"pre\"][\"Accuracy\"]\n",
    "post_acc = df[df[\"Image phase\"] == \"post\"][\"Accuracy\"]\n",
    "repetition_acc = df[df[\"Image phase\"] == \"repetition\"][\"Accuracy\"]\n",
    "gray_acc = df[df[\"Image phase\"] == \"gray\"][\"Accuracy\"]\n",
    "\n",
    "# 1. Repetition > pre\n",
    "comp1 = mannwhitneyu(repetition_acc, pre_acc)\n",
    "\n",
    "# 2. Post > pre\n",
    "comp2 = mannwhitneyu(post_acc, pre_acc)\n",
    "\n",
    "# 3. Post > repetition\n",
    "comp3 = mannwhitneyu(post_acc, repetition_acc)\n",
    "\n",
    "# 4. Gray > post\n",
    "comp4 = mannwhitneyu(gray_acc, post_acc)\n",
    "\n",
    "# 5. Gray < 0.84\n",
    "comp5 = ttest_1samp(gray_acc, 0.845)"
   ]
  },
  {
   "cell_type": "code",
   "execution_count": 15,
   "metadata": {},
   "outputs": [
    {
     "data": {
      "text/plain": [
       "(0.03111428571428565,\n",
       " 0.16624642857142857,\n",
       " 0.13513214285714292,\n",
       " 0.18273809523809537,\n",
       " 0.8352226190476192)"
      ]
     },
     "execution_count": 15,
     "metadata": {},
     "output_type": "execute_result"
    }
   ],
   "source": [
    "repetition_acc.mean() - pre_acc.mean(), post_acc.mean() - pre_acc.mean(), post_acc.mean() - repetition_acc.mean(), gray_acc.mean() - post_acc.mean(), gray_acc.mean()"
   ]
  },
  {
   "cell_type": "code",
   "execution_count": 9,
   "metadata": {},
   "outputs": [
    {
     "data": {
      "text/plain": [
       "(MannwhitneyuResult(statistic=11663051.0, pvalue=7.172185940729757e-276),\n",
       " MannwhitneyuResult(statistic=15997418.0, pvalue=0.0),\n",
       " MannwhitneyuResult(statistic=15946480.5, pvalue=0.0),\n",
       " MannwhitneyuResult(statistic=15999975.0, pvalue=0.0),\n",
       " TtestResult(statistic=-25.258243028980036, pvalue=9.90137875325235e-131, df=3999))"
      ]
     },
     "execution_count": 9,
     "metadata": {},
     "output_type": "execute_result"
    }
   ],
   "source": [
    "comp1, comp2, comp3, comp4, comp5"
   ]
  },
  {
   "cell_type": "code",
   "execution_count": 14,
   "metadata": {},
   "outputs": [
    {
     "data": {
      "image/png": "[encoded data removed]",
      "text/plain": [
       "<Figure size 500x300 with 1 Axes>"
      ]
     },
     "metadata": {},
     "output_type": "display_data"
    }
   ],
   "source": [
    "plt.figure(figsize=(5, 3))\n",
    "\n",
    "# Plot\n",
    "ax = sns.violinplot(\n",
    "    data=df,\n",
    "    x=\"Image phase\",\n",
    "    y=\"Accuracy\",\n",
    "    order=[\"repetition\", \"pre\", \"post\", \"gray\"],\n",
    ")\n",
    "\n",
    "# Make y label 100 x\n",
    "plt.yticks(plt.yticks()[0], [f\"{int(100 * x)}%\" for x in plt.yticks()[0]])\n",
    "\n",
    "plt.axhline(0.845, color=\"k\", linestyle=\"--\")\n",
    "plt.annotate(\"Color ImageNet 1k accuracy\", xy=(0, 0.8))\n",
    "\n",
    "# Draw learning effect\n",
    "# Line from pre to between post and gray\n",
    "plt.plot([1, 2.6], [pre_acc.mean(), pre_acc.mean()], \"k--\")\n",
    "plt.plot([2, 2.6], [post_acc.mean(), post_acc.mean()], \"k--\")\n",
    "\n",
    "# Draw arrow between their means\n",
    "plt.annotate('', xy=(2.6, pre_acc.mean()), xytext=(2.6, post_acc.mean()),\n",
    "             arrowprops=dict(arrowstyle='<|-|>', lw=2))\n",
    "\n",
    "# Find diff\n",
    "diff = post_acc.mean() - pre_acc.mean()\n",
    "plt.annotate(f'{100*diff:.2f}% (****)', xy=(2.7, (post_acc.mean() + pre_acc.mean()) / 2))\n",
    "plt.title(\"Model accuracy\")\n",
    "\n",
    "plt.gca().spines[['top', 'right', 'bottom']].set_visible(False)"
   ]
  },
  {
   "cell_type": "code",
   "execution_count": 11,
   "metadata": {},
   "outputs": [
    {
     "data": {
      "text/html": [
       "<div>\n",
       "<style scoped>\n",
       "    .dataframe tbody tr th:only-of-type {\n",
       "        vertical-align: middle;\n",
       "    }\n",
       "\n",
       "    .dataframe tbody tr th {\n",
       "        vertical-align: top;\n",
       "    }\n",
       "\n",
       "    .dataframe thead th {\n",
       "        text-align: right;\n",
       "    }\n",
       "</style>\n",
       "<table border=\"1\" class=\"dataframe\">\n",
       "  <thead>\n",
       "    <tr style=\"text-align: right;\">\n",
       "      <th></th>\n",
       "      <th>Image phase</th>\n",
       "      <th>synth_seed</th>\n",
       "      <th>model_seed</th>\n",
       "      <th>Time index</th>\n",
       "      <th>Ground truth class</th>\n",
       "      <th>Predicted class</th>\n",
       "      <th>Accuracy</th>\n",
       "    </tr>\n",
       "  </thead>\n",
       "  <tbody>\n",
       "    <tr>\n",
       "      <th>0</th>\n",
       "      <td>gray</td>\n",
       "      <td>499.5</td>\n",
       "      <td>1.5</td>\n",
       "      <td>104.5</td>\n",
       "      <td>499.360952</td>\n",
       "      <td>498.536083</td>\n",
       "      <td>0.835223</td>\n",
       "    </tr>\n",
       "    <tr>\n",
       "      <th>1</th>\n",
       "      <td>post</td>\n",
       "      <td>499.5</td>\n",
       "      <td>1.5</td>\n",
       "      <td>104.5</td>\n",
       "      <td>499.360952</td>\n",
       "      <td>497.072893</td>\n",
       "      <td>0.652485</td>\n",
       "    </tr>\n",
       "    <tr>\n",
       "      <th>2</th>\n",
       "      <td>pre</td>\n",
       "      <td>499.5</td>\n",
       "      <td>1.5</td>\n",
       "      <td>104.5</td>\n",
       "      <td>499.360952</td>\n",
       "      <td>493.591127</td>\n",
       "      <td>0.486238</td>\n",
       "    </tr>\n",
       "    <tr>\n",
       "      <th>3</th>\n",
       "      <td>repetition</td>\n",
       "      <td>499.5</td>\n",
       "      <td>1.5</td>\n",
       "      <td>104.5</td>\n",
       "      <td>499.360952</td>\n",
       "      <td>494.565887</td>\n",
       "      <td>0.517352</td>\n",
       "    </tr>\n",
       "  </tbody>\n",
       "</table>\n",
       "</div>"
      ],
      "text/plain": [
       "  Image phase  synth_seed  model_seed  Time index  Ground truth class  \\\n",
       "0        gray       499.5         1.5       104.5          499.360952   \n",
       "1        post       499.5         1.5       104.5          499.360952   \n",
       "2         pre       499.5         1.5       104.5          499.360952   \n",
       "3  repetition       499.5         1.5       104.5          499.360952   \n",
       "\n",
       "   Predicted class  Accuracy  \n",
       "0       498.536083  0.835223  \n",
       "1       497.072893  0.652485  \n",
       "2       493.591127  0.486238  \n",
       "3       494.565887  0.517352  "
      ]
     },
     "execution_count": 11,
     "metadata": {},
     "output_type": "execute_result"
    }
   ],
   "source": [
    "df.groupby([\"Image phase\"]).mean().reset_index()"
   ]
  },
  {
   "cell_type": "code",
   "execution_count": 12,
   "metadata": {},
   "outputs": [
    {
     "data": {
      "text/plain": [
       "0.16000000000000003"
      ]
     },
     "execution_count": 12,
     "metadata": {},
     "output_type": "execute_result"
    }
   ],
   "source": [
    "0.65 - 0.49"
   ]
  },
  {
   "cell_type": "code",
   "execution_count": null,
   "metadata": {},
   "outputs": [],
   "source": []
  }
 ],
 "metadata": {
  "kernelspec": {
   "display_name": "nature2023",
   "language": "python",
   "name": "python3"
  },
  "language_info": {
   "codemirror_mode": {
    "name": "ipython",
    "version": 3
   },
   "file_extension": ".py",
   "mimetype": "text/x-python",
   "name": "python",
   "nbconvert_exporter": "python",
   "pygments_lexer": "ipython3",
   "version": "3.11.8"
  }
 },
 "nbformat": 4,
 "nbformat_minor": 2
}
